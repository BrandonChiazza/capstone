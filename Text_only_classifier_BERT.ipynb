{
  "nbformat": 4,
  "nbformat_minor": 0,
  "metadata": {
    "colab": {
      "name": "Text only classifier - BERT.ipynb",
      "provenance": [],
      "collapsed_sections": [],
      "toc_visible": true,
      "include_colab_link": true
    },
    "kernelspec": {
      "name": "python3",
      "display_name": "Python 3"
    },
    "accelerator": "GPU",
    "widgets": {
      "application/vnd.jupyter.widget-state+json": {
        "6b626fee441149ac9193363a5ad8f63e": {
          "model_module": "@jupyter-widgets/controls",
          "model_name": "HBoxModel",
          "state": {
            "_view_name": "HBoxView",
            "_dom_classes": [],
            "_model_name": "HBoxModel",
            "_view_module": "@jupyter-widgets/controls",
            "_model_module_version": "1.5.0",
            "_view_count": null,
            "_view_module_version": "1.5.0",
            "box_style": "",
            "layout": "IPY_MODEL_9b0120da510243ab9bffbb425f83e052",
            "_model_module": "@jupyter-widgets/controls",
            "children": [
              "IPY_MODEL_1e32ab144a8f42e28a0c3832c20ffd73",
              "IPY_MODEL_ad6e0c9c42d74c5890def7716446a0d0"
            ]
          }
        },
        "9b0120da510243ab9bffbb425f83e052": {
          "model_module": "@jupyter-widgets/base",
          "model_name": "LayoutModel",
          "state": {
            "_view_name": "LayoutView",
            "grid_template_rows": null,
            "right": null,
            "justify_content": null,
            "_view_module": "@jupyter-widgets/base",
            "overflow": null,
            "_model_module_version": "1.2.0",
            "_view_count": null,
            "flex_flow": null,
            "width": null,
            "min_width": null,
            "border": null,
            "align_items": null,
            "bottom": null,
            "_model_module": "@jupyter-widgets/base",
            "top": null,
            "grid_column": null,
            "overflow_y": null,
            "overflow_x": null,
            "grid_auto_flow": null,
            "grid_area": null,
            "grid_template_columns": null,
            "flex": null,
            "_model_name": "LayoutModel",
            "justify_items": null,
            "grid_row": null,
            "max_height": null,
            "align_content": null,
            "visibility": null,
            "align_self": null,
            "height": null,
            "min_height": null,
            "padding": null,
            "grid_auto_rows": null,
            "grid_gap": null,
            "max_width": null,
            "order": null,
            "_view_module_version": "1.2.0",
            "grid_template_areas": null,
            "object_position": null,
            "object_fit": null,
            "grid_auto_columns": null,
            "margin": null,
            "display": null,
            "left": null
          }
        },
        "1e32ab144a8f42e28a0c3832c20ffd73": {
          "model_module": "@jupyter-widgets/controls",
          "model_name": "FloatProgressModel",
          "state": {
            "_view_name": "ProgressView",
            "style": "IPY_MODEL_23e46257d2e6428e909a6a07c2ad85bf",
            "_dom_classes": [],
            "description": "Downloading: 100%",
            "_model_name": "FloatProgressModel",
            "bar_style": "success",
            "max": 231508,
            "_view_module": "@jupyter-widgets/controls",
            "_model_module_version": "1.5.0",
            "value": 231508,
            "_view_count": null,
            "_view_module_version": "1.5.0",
            "orientation": "horizontal",
            "min": 0,
            "description_tooltip": null,
            "_model_module": "@jupyter-widgets/controls",
            "layout": "IPY_MODEL_22d71fd7cfbb45568db87e327388b770"
          }
        },
        "ad6e0c9c42d74c5890def7716446a0d0": {
          "model_module": "@jupyter-widgets/controls",
          "model_name": "HTMLModel",
          "state": {
            "_view_name": "HTMLView",
            "style": "IPY_MODEL_6b5c7365f834456198bd4eb2722c6c88",
            "_dom_classes": [],
            "description": "",
            "_model_name": "HTMLModel",
            "placeholder": "​",
            "_view_module": "@jupyter-widgets/controls",
            "_model_module_version": "1.5.0",
            "value": " 232k/232k [00:00&lt;00:00, 2.91MB/s]",
            "_view_count": null,
            "_view_module_version": "1.5.0",
            "description_tooltip": null,
            "_model_module": "@jupyter-widgets/controls",
            "layout": "IPY_MODEL_3f4a0e1465034eb597b7d3e3a7be47dc"
          }
        },
        "23e46257d2e6428e909a6a07c2ad85bf": {
          "model_module": "@jupyter-widgets/controls",
          "model_name": "ProgressStyleModel",
          "state": {
            "_view_name": "StyleView",
            "_model_name": "ProgressStyleModel",
            "description_width": "initial",
            "_view_module": "@jupyter-widgets/base",
            "_model_module_version": "1.5.0",
            "_view_count": null,
            "_view_module_version": "1.2.0",
            "bar_color": null,
            "_model_module": "@jupyter-widgets/controls"
          }
        },
        "22d71fd7cfbb45568db87e327388b770": {
          "model_module": "@jupyter-widgets/base",
          "model_name": "LayoutModel",
          "state": {
            "_view_name": "LayoutView",
            "grid_template_rows": null,
            "right": null,
            "justify_content": null,
            "_view_module": "@jupyter-widgets/base",
            "overflow": null,
            "_model_module_version": "1.2.0",
            "_view_count": null,
            "flex_flow": null,
            "width": null,
            "min_width": null,
            "border": null,
            "align_items": null,
            "bottom": null,
            "_model_module": "@jupyter-widgets/base",
            "top": null,
            "grid_column": null,
            "overflow_y": null,
            "overflow_x": null,
            "grid_auto_flow": null,
            "grid_area": null,
            "grid_template_columns": null,
            "flex": null,
            "_model_name": "LayoutModel",
            "justify_items": null,
            "grid_row": null,
            "max_height": null,
            "align_content": null,
            "visibility": null,
            "align_self": null,
            "height": null,
            "min_height": null,
            "padding": null,
            "grid_auto_rows": null,
            "grid_gap": null,
            "max_width": null,
            "order": null,
            "_view_module_version": "1.2.0",
            "grid_template_areas": null,
            "object_position": null,
            "object_fit": null,
            "grid_auto_columns": null,
            "margin": null,
            "display": null,
            "left": null
          }
        },
        "6b5c7365f834456198bd4eb2722c6c88": {
          "model_module": "@jupyter-widgets/controls",
          "model_name": "DescriptionStyleModel",
          "state": {
            "_view_name": "StyleView",
            "_model_name": "DescriptionStyleModel",
            "description_width": "",
            "_view_module": "@jupyter-widgets/base",
            "_model_module_version": "1.5.0",
            "_view_count": null,
            "_view_module_version": "1.2.0",
            "_model_module": "@jupyter-widgets/controls"
          }
        },
        "3f4a0e1465034eb597b7d3e3a7be47dc": {
          "model_module": "@jupyter-widgets/base",
          "model_name": "LayoutModel",
          "state": {
            "_view_name": "LayoutView",
            "grid_template_rows": null,
            "right": null,
            "justify_content": null,
            "_view_module": "@jupyter-widgets/base",
            "overflow": null,
            "_model_module_version": "1.2.0",
            "_view_count": null,
            "flex_flow": null,
            "width": null,
            "min_width": null,
            "border": null,
            "align_items": null,
            "bottom": null,
            "_model_module": "@jupyter-widgets/base",
            "top": null,
            "grid_column": null,
            "overflow_y": null,
            "overflow_x": null,
            "grid_auto_flow": null,
            "grid_area": null,
            "grid_template_columns": null,
            "flex": null,
            "_model_name": "LayoutModel",
            "justify_items": null,
            "grid_row": null,
            "max_height": null,
            "align_content": null,
            "visibility": null,
            "align_self": null,
            "height": null,
            "min_height": null,
            "padding": null,
            "grid_auto_rows": null,
            "grid_gap": null,
            "max_width": null,
            "order": null,
            "_view_module_version": "1.2.0",
            "grid_template_areas": null,
            "object_position": null,
            "object_fit": null,
            "grid_auto_columns": null,
            "margin": null,
            "display": null,
            "left": null
          }
        },
        "e60a6251d7b34c2395d56dac6bdfd651": {
          "model_module": "@jupyter-widgets/controls",
          "model_name": "HBoxModel",
          "state": {
            "_view_name": "HBoxView",
            "_dom_classes": [],
            "_model_name": "HBoxModel",
            "_view_module": "@jupyter-widgets/controls",
            "_model_module_version": "1.5.0",
            "_view_count": null,
            "_view_module_version": "1.5.0",
            "box_style": "",
            "layout": "IPY_MODEL_7201d4e0656e44c3ba6ad014d090f2f3",
            "_model_module": "@jupyter-widgets/controls",
            "children": [
              "IPY_MODEL_4a7585fb895f4ad28ea4f872fad08508",
              "IPY_MODEL_3cfb718983a44055b0dcbd4d53e3abf5"
            ]
          }
        },
        "7201d4e0656e44c3ba6ad014d090f2f3": {
          "model_module": "@jupyter-widgets/base",
          "model_name": "LayoutModel",
          "state": {
            "_view_name": "LayoutView",
            "grid_template_rows": null,
            "right": null,
            "justify_content": null,
            "_view_module": "@jupyter-widgets/base",
            "overflow": null,
            "_model_module_version": "1.2.0",
            "_view_count": null,
            "flex_flow": null,
            "width": null,
            "min_width": null,
            "border": null,
            "align_items": null,
            "bottom": null,
            "_model_module": "@jupyter-widgets/base",
            "top": null,
            "grid_column": null,
            "overflow_y": null,
            "overflow_x": null,
            "grid_auto_flow": null,
            "grid_area": null,
            "grid_template_columns": null,
            "flex": null,
            "_model_name": "LayoutModel",
            "justify_items": null,
            "grid_row": null,
            "max_height": null,
            "align_content": null,
            "visibility": null,
            "align_self": null,
            "height": null,
            "min_height": null,
            "padding": null,
            "grid_auto_rows": null,
            "grid_gap": null,
            "max_width": null,
            "order": null,
            "_view_module_version": "1.2.0",
            "grid_template_areas": null,
            "object_position": null,
            "object_fit": null,
            "grid_auto_columns": null,
            "margin": null,
            "display": null,
            "left": null
          }
        },
        "4a7585fb895f4ad28ea4f872fad08508": {
          "model_module": "@jupyter-widgets/controls",
          "model_name": "FloatProgressModel",
          "state": {
            "_view_name": "ProgressView",
            "style": "IPY_MODEL_1245d826f8eb4f70938baa14be3de3ce",
            "_dom_classes": [],
            "description": "Downloading: 100%",
            "_model_name": "FloatProgressModel",
            "bar_style": "success",
            "max": 433,
            "_view_module": "@jupyter-widgets/controls",
            "_model_module_version": "1.5.0",
            "value": 433,
            "_view_count": null,
            "_view_module_version": "1.5.0",
            "orientation": "horizontal",
            "min": 0,
            "description_tooltip": null,
            "_model_module": "@jupyter-widgets/controls",
            "layout": "IPY_MODEL_6adb4dc9ddb94772bc4f62d224934a2c"
          }
        },
        "3cfb718983a44055b0dcbd4d53e3abf5": {
          "model_module": "@jupyter-widgets/controls",
          "model_name": "HTMLModel",
          "state": {
            "_view_name": "HTMLView",
            "style": "IPY_MODEL_27cd790697c8435bab7eb7b7c939d13a",
            "_dom_classes": [],
            "description": "",
            "_model_name": "HTMLModel",
            "placeholder": "​",
            "_view_module": "@jupyter-widgets/controls",
            "_model_module_version": "1.5.0",
            "value": " 433/433 [00:00&lt;00:00, 2.11kB/s]",
            "_view_count": null,
            "_view_module_version": "1.5.0",
            "description_tooltip": null,
            "_model_module": "@jupyter-widgets/controls",
            "layout": "IPY_MODEL_8680f121688d4044b3df54efbfa85e80"
          }
        },
        "1245d826f8eb4f70938baa14be3de3ce": {
          "model_module": "@jupyter-widgets/controls",
          "model_name": "ProgressStyleModel",
          "state": {
            "_view_name": "StyleView",
            "_model_name": "ProgressStyleModel",
            "description_width": "initial",
            "_view_module": "@jupyter-widgets/base",
            "_model_module_version": "1.5.0",
            "_view_count": null,
            "_view_module_version": "1.2.0",
            "bar_color": null,
            "_model_module": "@jupyter-widgets/controls"
          }
        },
        "6adb4dc9ddb94772bc4f62d224934a2c": {
          "model_module": "@jupyter-widgets/base",
          "model_name": "LayoutModel",
          "state": {
            "_view_name": "LayoutView",
            "grid_template_rows": null,
            "right": null,
            "justify_content": null,
            "_view_module": "@jupyter-widgets/base",
            "overflow": null,
            "_model_module_version": "1.2.0",
            "_view_count": null,
            "flex_flow": null,
            "width": null,
            "min_width": null,
            "border": null,
            "align_items": null,
            "bottom": null,
            "_model_module": "@jupyter-widgets/base",
            "top": null,
            "grid_column": null,
            "overflow_y": null,
            "overflow_x": null,
            "grid_auto_flow": null,
            "grid_area": null,
            "grid_template_columns": null,
            "flex": null,
            "_model_name": "LayoutModel",
            "justify_items": null,
            "grid_row": null,
            "max_height": null,
            "align_content": null,
            "visibility": null,
            "align_self": null,
            "height": null,
            "min_height": null,
            "padding": null,
            "grid_auto_rows": null,
            "grid_gap": null,
            "max_width": null,
            "order": null,
            "_view_module_version": "1.2.0",
            "grid_template_areas": null,
            "object_position": null,
            "object_fit": null,
            "grid_auto_columns": null,
            "margin": null,
            "display": null,
            "left": null
          }
        },
        "27cd790697c8435bab7eb7b7c939d13a": {
          "model_module": "@jupyter-widgets/controls",
          "model_name": "DescriptionStyleModel",
          "state": {
            "_view_name": "StyleView",
            "_model_name": "DescriptionStyleModel",
            "description_width": "",
            "_view_module": "@jupyter-widgets/base",
            "_model_module_version": "1.5.0",
            "_view_count": null,
            "_view_module_version": "1.2.0",
            "_model_module": "@jupyter-widgets/controls"
          }
        },
        "8680f121688d4044b3df54efbfa85e80": {
          "model_module": "@jupyter-widgets/base",
          "model_name": "LayoutModel",
          "state": {
            "_view_name": "LayoutView",
            "grid_template_rows": null,
            "right": null,
            "justify_content": null,
            "_view_module": "@jupyter-widgets/base",
            "overflow": null,
            "_model_module_version": "1.2.0",
            "_view_count": null,
            "flex_flow": null,
            "width": null,
            "min_width": null,
            "border": null,
            "align_items": null,
            "bottom": null,
            "_model_module": "@jupyter-widgets/base",
            "top": null,
            "grid_column": null,
            "overflow_y": null,
            "overflow_x": null,
            "grid_auto_flow": null,
            "grid_area": null,
            "grid_template_columns": null,
            "flex": null,
            "_model_name": "LayoutModel",
            "justify_items": null,
            "grid_row": null,
            "max_height": null,
            "align_content": null,
            "visibility": null,
            "align_self": null,
            "height": null,
            "min_height": null,
            "padding": null,
            "grid_auto_rows": null,
            "grid_gap": null,
            "max_width": null,
            "order": null,
            "_view_module_version": "1.2.0",
            "grid_template_areas": null,
            "object_position": null,
            "object_fit": null,
            "grid_auto_columns": null,
            "margin": null,
            "display": null,
            "left": null
          }
        },
        "9979c9fe37f04ec39b60dce587786f5f": {
          "model_module": "@jupyter-widgets/controls",
          "model_name": "HBoxModel",
          "state": {
            "_view_name": "HBoxView",
            "_dom_classes": [],
            "_model_name": "HBoxModel",
            "_view_module": "@jupyter-widgets/controls",
            "_model_module_version": "1.5.0",
            "_view_count": null,
            "_view_module_version": "1.5.0",
            "box_style": "",
            "layout": "IPY_MODEL_cb548d0f130b4f1b859f8a993f41ecb5",
            "_model_module": "@jupyter-widgets/controls",
            "children": [
              "IPY_MODEL_f3e0266f490f4a6a82f0e65216046b07",
              "IPY_MODEL_0d64cdeb5c544ad7b1b74428e6b96132"
            ]
          }
        },
        "cb548d0f130b4f1b859f8a993f41ecb5": {
          "model_module": "@jupyter-widgets/base",
          "model_name": "LayoutModel",
          "state": {
            "_view_name": "LayoutView",
            "grid_template_rows": null,
            "right": null,
            "justify_content": null,
            "_view_module": "@jupyter-widgets/base",
            "overflow": null,
            "_model_module_version": "1.2.0",
            "_view_count": null,
            "flex_flow": null,
            "width": null,
            "min_width": null,
            "border": null,
            "align_items": null,
            "bottom": null,
            "_model_module": "@jupyter-widgets/base",
            "top": null,
            "grid_column": null,
            "overflow_y": null,
            "overflow_x": null,
            "grid_auto_flow": null,
            "grid_area": null,
            "grid_template_columns": null,
            "flex": null,
            "_model_name": "LayoutModel",
            "justify_items": null,
            "grid_row": null,
            "max_height": null,
            "align_content": null,
            "visibility": null,
            "align_self": null,
            "height": null,
            "min_height": null,
            "padding": null,
            "grid_auto_rows": null,
            "grid_gap": null,
            "max_width": null,
            "order": null,
            "_view_module_version": "1.2.0",
            "grid_template_areas": null,
            "object_position": null,
            "object_fit": null,
            "grid_auto_columns": null,
            "margin": null,
            "display": null,
            "left": null
          }
        },
        "f3e0266f490f4a6a82f0e65216046b07": {
          "model_module": "@jupyter-widgets/controls",
          "model_name": "FloatProgressModel",
          "state": {
            "_view_name": "ProgressView",
            "style": "IPY_MODEL_0acbab55931344c2a204f75370089c06",
            "_dom_classes": [],
            "description": "Downloading: 100%",
            "_model_name": "FloatProgressModel",
            "bar_style": "success",
            "max": 440473133,
            "_view_module": "@jupyter-widgets/controls",
            "_model_module_version": "1.5.0",
            "value": 440473133,
            "_view_count": null,
            "_view_module_version": "1.5.0",
            "orientation": "horizontal",
            "min": 0,
            "description_tooltip": null,
            "_model_module": "@jupyter-widgets/controls",
            "layout": "IPY_MODEL_06b724d9b02944d783e0bf630acebb50"
          }
        },
        "0d64cdeb5c544ad7b1b74428e6b96132": {
          "model_module": "@jupyter-widgets/controls",
          "model_name": "HTMLModel",
          "state": {
            "_view_name": "HTMLView",
            "style": "IPY_MODEL_cff338b38025429ead4d11ae696a101c",
            "_dom_classes": [],
            "description": "",
            "_model_name": "HTMLModel",
            "placeholder": "​",
            "_view_module": "@jupyter-widgets/controls",
            "_model_module_version": "1.5.0",
            "value": " 440M/440M [00:06&lt;00:00, 73.1MB/s]",
            "_view_count": null,
            "_view_module_version": "1.5.0",
            "description_tooltip": null,
            "_model_module": "@jupyter-widgets/controls",
            "layout": "IPY_MODEL_f72eac98869c4c37b2e3393a3ebb4c53"
          }
        },
        "0acbab55931344c2a204f75370089c06": {
          "model_module": "@jupyter-widgets/controls",
          "model_name": "ProgressStyleModel",
          "state": {
            "_view_name": "StyleView",
            "_model_name": "ProgressStyleModel",
            "description_width": "initial",
            "_view_module": "@jupyter-widgets/base",
            "_model_module_version": "1.5.0",
            "_view_count": null,
            "_view_module_version": "1.2.0",
            "bar_color": null,
            "_model_module": "@jupyter-widgets/controls"
          }
        },
        "06b724d9b02944d783e0bf630acebb50": {
          "model_module": "@jupyter-widgets/base",
          "model_name": "LayoutModel",
          "state": {
            "_view_name": "LayoutView",
            "grid_template_rows": null,
            "right": null,
            "justify_content": null,
            "_view_module": "@jupyter-widgets/base",
            "overflow": null,
            "_model_module_version": "1.2.0",
            "_view_count": null,
            "flex_flow": null,
            "width": null,
            "min_width": null,
            "border": null,
            "align_items": null,
            "bottom": null,
            "_model_module": "@jupyter-widgets/base",
            "top": null,
            "grid_column": null,
            "overflow_y": null,
            "overflow_x": null,
            "grid_auto_flow": null,
            "grid_area": null,
            "grid_template_columns": null,
            "flex": null,
            "_model_name": "LayoutModel",
            "justify_items": null,
            "grid_row": null,
            "max_height": null,
            "align_content": null,
            "visibility": null,
            "align_self": null,
            "height": null,
            "min_height": null,
            "padding": null,
            "grid_auto_rows": null,
            "grid_gap": null,
            "max_width": null,
            "order": null,
            "_view_module_version": "1.2.0",
            "grid_template_areas": null,
            "object_position": null,
            "object_fit": null,
            "grid_auto_columns": null,
            "margin": null,
            "display": null,
            "left": null
          }
        },
        "cff338b38025429ead4d11ae696a101c": {
          "model_module": "@jupyter-widgets/controls",
          "model_name": "DescriptionStyleModel",
          "state": {
            "_view_name": "StyleView",
            "_model_name": "DescriptionStyleModel",
            "description_width": "",
            "_view_module": "@jupyter-widgets/base",
            "_model_module_version": "1.5.0",
            "_view_count": null,
            "_view_module_version": "1.2.0",
            "_model_module": "@jupyter-widgets/controls"
          }
        },
        "f72eac98869c4c37b2e3393a3ebb4c53": {
          "model_module": "@jupyter-widgets/base",
          "model_name": "LayoutModel",
          "state": {
            "_view_name": "LayoutView",
            "grid_template_rows": null,
            "right": null,
            "justify_content": null,
            "_view_module": "@jupyter-widgets/base",
            "overflow": null,
            "_model_module_version": "1.2.0",
            "_view_count": null,
            "flex_flow": null,
            "width": null,
            "min_width": null,
            "border": null,
            "align_items": null,
            "bottom": null,
            "_model_module": "@jupyter-widgets/base",
            "top": null,
            "grid_column": null,
            "overflow_y": null,
            "overflow_x": null,
            "grid_auto_flow": null,
            "grid_area": null,
            "grid_template_columns": null,
            "flex": null,
            "_model_name": "LayoutModel",
            "justify_items": null,
            "grid_row": null,
            "max_height": null,
            "align_content": null,
            "visibility": null,
            "align_self": null,
            "height": null,
            "min_height": null,
            "padding": null,
            "grid_auto_rows": null,
            "grid_gap": null,
            "max_width": null,
            "order": null,
            "_view_module_version": "1.2.0",
            "grid_template_areas": null,
            "object_position": null,
            "object_fit": null,
            "grid_auto_columns": null,
            "margin": null,
            "display": null,
            "left": null
          }
        }
      }
    }
  },
  "cells": [
    {
      "cell_type": "markdown",
      "metadata": {
        "id": "view-in-github",
        "colab_type": "text"
      },
      "source": [
        "<a href=\"https://colab.research.google.com/github/BrandonChiazza/captone/blob/main/Text_only_classifier_BERT.ipynb\" target=\"_parent\"><img src=\"https://colab.research.google.com/assets/colab-badge.svg\" alt=\"Open In Colab\"/></a>"
      ]
    },
    {
      "cell_type": "markdown",
      "metadata": {
        "id": "tdUQQFxgjzKf"
      },
      "source": [
        "## Text only classification of Hateful Memes using pre-trained BERT algorithm.\n",
        "\n",
        "The datasource comes from pre-processing steps performed on open source dataset from this paper (https://gombru.github.io/2019/10/09/MMHS/).\n",
        "\n",
        "Code is located at:  \n",
        "https://github.com/yeshivadataanalytics/hate-classification/blob/HS_Hate_Speech_Image/Pre-processing/Pre-processing%20Capstone.ipynb\n",
        "\n",
        "The output of this pre-processing step (and input of this notebook) is a json file (new_json.json) with the following structure:"
      ]
    },
    {
      "cell_type": "markdown",
      "metadata": {
        "id": "Lh7h3Kc9MCZq"
      },
      "source": [
        "![image.png](data:image/png;base64,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)"
      ]
    },
    {
      "cell_type": "markdown",
      "metadata": {
        "id": "_0dJJlfoGbJb"
      },
      "source": [
        "## Steps\n",
        "\n",
        "- Load json file from S3 bucket (there are around 13000 records with the text from the meme image extracted and the label for hateful)\n",
        "- Load and use __transformers__ which is pytorch interface for BERT pre-trained algorithm.\n"
      ]
    },
    {
      "cell_type": "markdown",
      "metadata": {
        "id": "6UNYacLv5ysF"
      },
      "source": [
        "Image below is extracted from Facebook paper (https://arxiv.org/pdf/1909.02950.pdf), where they used Bert as a text-only baseline to compare to text+image tasks. "
      ]
    },
    {
      "cell_type": "markdown",
      "metadata": {
        "id": "K2qEp2c45hst"
      },
      "source": [
        "![image.png](data:image/png;base64,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)"
      ]
    },
    {
      "cell_type": "markdown",
      "metadata": {
        "id": "lNPJiIffEwXy"
      },
      "source": [
        "Guide that followed to implement it: <br> \n",
        "- https://medium.com/@aniruddha.choudhury94/part-2-bert-fine-tuning-tutorial-with-pytorch-for-text-classification-on-the-corpus-of-linguistic-18057ce330e1 <br>\n",
        "\n",
        "Another implementations\n",
        "- https://towardsdatascience.com/bert-text-classification-using-pytorch-723dfb8b6b5b\n",
        "- https://towardsdatascience.com/identifying-hate-speech-with-bert-and-cnn-b7aa2cddd60d\n",
        " \n",
        "To understand BERT in more detail: <br>\n",
        "- https://medium.com/@_init_/why-bert-has-3-embedding-layers-and-their-implementation-details-9c261108e28a \n",
        "- https://towardsdatascience.com/bert-for-dummies-step-by-step-tutorial-fb90890ffe03\n",
        "<br>\n",
        "- http://jalammar.github.io/illustrated-bert/\n",
        "  - https://jalammar.github.io/illustrated-transformer/\n"
      ]
    },
    {
      "cell_type": "code",
      "metadata": {
        "id": "F49YwGXHgszs",
        "outputId": "f89832f2-c8e4-4fc3-a858-b454ae309ded",
        "colab": {
          "base_uri": "https://localhost:8080/"
        }
      },
      "source": [
        "from google.colab import drive\n",
        "drive.mount('/content/drive')"
      ],
      "execution_count": null,
      "outputs": [
        {
          "output_type": "stream",
          "text": [
            "Mounted at /content/drive\n"
          ],
          "name": "stdout"
        }
      ]
    },
    {
      "cell_type": "code",
      "metadata": {
        "id": "JUVBn4ctPL21",
        "outputId": "d02ed08c-3fd1-4161-fa26-ca37622233af",
        "colab": {
          "base_uri": "https://localhost:8080/"
        }
      },
      "source": [
        "## Installing requirements ##\n",
        "!pip install transformers # (Installs pytorch interface for BERT)\n",
        "\n",
        "from transformers import BertTokenizer\n",
        "import torch\n",
        "from sklearn.model_selection import train_test_split\n",
        "import string\n",
        "import re\n",
        "import pandas as pd\n",
        "import numpy as np\n",
        "from keras.preprocessing.sequence import pad_sequences"
      ],
      "execution_count": null,
      "outputs": [
        {
          "output_type": "stream",
          "text": [
            "Collecting transformers\n",
            "\u001b[?25l  Downloading https://files.pythonhosted.org/packages/2c/4e/4f1ede0fd7a36278844a277f8d53c21f88f37f3754abf76a5d6224f76d4a/transformers-3.4.0-py3-none-any.whl (1.3MB)\n",
            "\r\u001b[K     |▎                               | 10kB 18.4MB/s eta 0:00:01\r\u001b[K     |▌                               | 20kB 23.9MB/s eta 0:00:01\r\u001b[K     |▉                               | 30kB 18.6MB/s eta 0:00:01\r\u001b[K     |█                               | 40kB 13.2MB/s eta 0:00:01\r\u001b[K     |█▎                              | 51kB 9.6MB/s eta 0:00:01\r\u001b[K     |█▋                              | 61kB 9.0MB/s eta 0:00:01\r\u001b[K     |█▉                              | 71kB 8.8MB/s eta 0:00:01\r\u001b[K     |██                              | 81kB 9.3MB/s eta 0:00:01\r\u001b[K     |██▍                             | 92kB 8.9MB/s eta 0:00:01\r\u001b[K     |██▋                             | 102kB 9.1MB/s eta 0:00:01\r\u001b[K     |██▉                             | 112kB 9.1MB/s eta 0:00:01\r\u001b[K     |███▏                            | 122kB 9.1MB/s eta 0:00:01\r\u001b[K     |███▍                            | 133kB 9.1MB/s eta 0:00:01\r\u001b[K     |███▋                            | 143kB 9.1MB/s eta 0:00:01\r\u001b[K     |████                            | 153kB 9.1MB/s eta 0:00:01\r\u001b[K     |████▏                           | 163kB 9.1MB/s eta 0:00:01\r\u001b[K     |████▍                           | 174kB 9.1MB/s eta 0:00:01\r\u001b[K     |████▊                           | 184kB 9.1MB/s eta 0:00:01\r\u001b[K     |█████                           | 194kB 9.1MB/s eta 0:00:01\r\u001b[K     |█████▏                          | 204kB 9.1MB/s eta 0:00:01\r\u001b[K     |█████▌                          | 215kB 9.1MB/s eta 0:00:01\r\u001b[K     |█████▊                          | 225kB 9.1MB/s eta 0:00:01\r\u001b[K     |██████                          | 235kB 9.1MB/s eta 0:00:01\r\u001b[K     |██████▎                         | 245kB 9.1MB/s eta 0:00:01\r\u001b[K     |██████▌                         | 256kB 9.1MB/s eta 0:00:01\r\u001b[K     |██████▊                         | 266kB 9.1MB/s eta 0:00:01\r\u001b[K     |███████                         | 276kB 9.1MB/s eta 0:00:01\r\u001b[K     |███████▎                        | 286kB 9.1MB/s eta 0:00:01\r\u001b[K     |███████▋                        | 296kB 9.1MB/s eta 0:00:01\r\u001b[K     |███████▉                        | 307kB 9.1MB/s eta 0:00:01\r\u001b[K     |████████                        | 317kB 9.1MB/s eta 0:00:01\r\u001b[K     |████████▍                       | 327kB 9.1MB/s eta 0:00:01\r\u001b[K     |████████▋                       | 337kB 9.1MB/s eta 0:00:01\r\u001b[K     |████████▉                       | 348kB 9.1MB/s eta 0:00:01\r\u001b[K     |█████████▏                      | 358kB 9.1MB/s eta 0:00:01\r\u001b[K     |█████████▍                      | 368kB 9.1MB/s eta 0:00:01\r\u001b[K     |█████████▋                      | 378kB 9.1MB/s eta 0:00:01\r\u001b[K     |██████████                      | 389kB 9.1MB/s eta 0:00:01\r\u001b[K     |██████████▏                     | 399kB 9.1MB/s eta 0:00:01\r\u001b[K     |██████████▍                     | 409kB 9.1MB/s eta 0:00:01\r\u001b[K     |██████████▊                     | 419kB 9.1MB/s eta 0:00:01\r\u001b[K     |███████████                     | 430kB 9.1MB/s eta 0:00:01\r\u001b[K     |███████████▏                    | 440kB 9.1MB/s eta 0:00:01\r\u001b[K     |███████████▌                    | 450kB 9.1MB/s eta 0:00:01\r\u001b[K     |███████████▊                    | 460kB 9.1MB/s eta 0:00:01\r\u001b[K     |████████████                    | 471kB 9.1MB/s eta 0:00:01\r\u001b[K     |████████████▎                   | 481kB 9.1MB/s eta 0:00:01\r\u001b[K     |████████████▌                   | 491kB 9.1MB/s eta 0:00:01\r\u001b[K     |████████████▊                   | 501kB 9.1MB/s eta 0:00:01\r\u001b[K     |█████████████                   | 512kB 9.1MB/s eta 0:00:01\r\u001b[K     |█████████████▎                  | 522kB 9.1MB/s eta 0:00:01\r\u001b[K     |█████████████▌                  | 532kB 9.1MB/s eta 0:00:01\r\u001b[K     |█████████████▉                  | 542kB 9.1MB/s eta 0:00:01\r\u001b[K     |██████████████                  | 552kB 9.1MB/s eta 0:00:01\r\u001b[K     |██████████████▍                 | 563kB 9.1MB/s eta 0:00:01\r\u001b[K     |██████████████▋                 | 573kB 9.1MB/s eta 0:00:01\r\u001b[K     |██████████████▉                 | 583kB 9.1MB/s eta 0:00:01\r\u001b[K     |███████████████▏                | 593kB 9.1MB/s eta 0:00:01\r\u001b[K     |███████████████▍                | 604kB 9.1MB/s eta 0:00:01\r\u001b[K     |███████████████▋                | 614kB 9.1MB/s eta 0:00:01\r\u001b[K     |████████████████                | 624kB 9.1MB/s eta 0:00:01\r\u001b[K     |████████████████▏               | 634kB 9.1MB/s eta 0:00:01\r\u001b[K     |████████████████▍               | 645kB 9.1MB/s eta 0:00:01\r\u001b[K     |████████████████▊               | 655kB 9.1MB/s eta 0:00:01\r\u001b[K     |█████████████████               | 665kB 9.1MB/s eta 0:00:01\r\u001b[K     |█████████████████▏              | 675kB 9.1MB/s eta 0:00:01\r\u001b[K     |█████████████████▌              | 686kB 9.1MB/s eta 0:00:01\r\u001b[K     |█████████████████▊              | 696kB 9.1MB/s eta 0:00:01\r\u001b[K     |██████████████████              | 706kB 9.1MB/s eta 0:00:01\r\u001b[K     |██████████████████▎             | 716kB 9.1MB/s eta 0:00:01\r\u001b[K     |██████████████████▌             | 727kB 9.1MB/s eta 0:00:01\r\u001b[K     |██████████████████▊             | 737kB 9.1MB/s eta 0:00:01\r\u001b[K     |███████████████████             | 747kB 9.1MB/s eta 0:00:01\r\u001b[K     |███████████████████▎            | 757kB 9.1MB/s eta 0:00:01\r\u001b[K     |███████████████████▌            | 768kB 9.1MB/s eta 0:00:01\r\u001b[K     |███████████████████▉            | 778kB 9.1MB/s eta 0:00:01\r\u001b[K     |████████████████████            | 788kB 9.1MB/s eta 0:00:01\r\u001b[K     |████████████████████▎           | 798kB 9.1MB/s eta 0:00:01\r\u001b[K     |████████████████████▋           | 808kB 9.1MB/s eta 0:00:01\r\u001b[K     |████████████████████▉           | 819kB 9.1MB/s eta 0:00:01\r\u001b[K     |█████████████████████           | 829kB 9.1MB/s eta 0:00:01\r\u001b[K     |█████████████████████▍          | 839kB 9.1MB/s eta 0:00:01\r\u001b[K     |█████████████████████▋          | 849kB 9.1MB/s eta 0:00:01\r\u001b[K     |██████████████████████          | 860kB 9.1MB/s eta 0:00:01\r\u001b[K     |██████████████████████▏         | 870kB 9.1MB/s eta 0:00:01\r\u001b[K     |██████████████████████▍         | 880kB 9.1MB/s eta 0:00:01\r\u001b[K     |██████████████████████▊         | 890kB 9.1MB/s eta 0:00:01\r\u001b[K     |███████████████████████         | 901kB 9.1MB/s eta 0:00:01\r\u001b[K     |███████████████████████▏        | 911kB 9.1MB/s eta 0:00:01\r\u001b[K     |███████████████████████▌        | 921kB 9.1MB/s eta 0:00:01\r\u001b[K     |███████████████████████▊        | 931kB 9.1MB/s eta 0:00:01\r\u001b[K     |████████████████████████        | 942kB 9.1MB/s eta 0:00:01\r\u001b[K     |████████████████████████▎       | 952kB 9.1MB/s eta 0:00:01\r\u001b[K     |████████████████████████▌       | 962kB 9.1MB/s eta 0:00:01\r\u001b[K     |████████████████████████▊       | 972kB 9.1MB/s eta 0:00:01\r\u001b[K     |█████████████████████████       | 983kB 9.1MB/s eta 0:00:01\r\u001b[K     |█████████████████████████▎      | 993kB 9.1MB/s eta 0:00:01\r\u001b[K     |█████████████████████████▌      | 1.0MB 9.1MB/s eta 0:00:01\r\u001b[K     |█████████████████████████▉      | 1.0MB 9.1MB/s eta 0:00:01\r\u001b[K     |██████████████████████████      | 1.0MB 9.1MB/s eta 0:00:01\r\u001b[K     |██████████████████████████▎     | 1.0MB 9.1MB/s eta 0:00:01\r\u001b[K     |██████████████████████████▋     | 1.0MB 9.1MB/s eta 0:00:01\r\u001b[K     |██████████████████████████▉     | 1.1MB 9.1MB/s eta 0:00:01\r\u001b[K     |███████████████████████████     | 1.1MB 9.1MB/s eta 0:00:01\r\u001b[K     |███████████████████████████▍    | 1.1MB 9.1MB/s eta 0:00:01\r\u001b[K     |███████████████████████████▋    | 1.1MB 9.1MB/s eta 0:00:01\r\u001b[K     |███████████████████████████▉    | 1.1MB 9.1MB/s eta 0:00:01\r\u001b[K     |████████████████████████████▏   | 1.1MB 9.1MB/s eta 0:00:01\r\u001b[K     |████████████████████████████▍   | 1.1MB 9.1MB/s eta 0:00:01\r\u001b[K     |████████████████████████████▊   | 1.1MB 9.1MB/s eta 0:00:01\r\u001b[K     |█████████████████████████████   | 1.1MB 9.1MB/s eta 0:00:01\r\u001b[K     |█████████████████████████████▏  | 1.1MB 9.1MB/s eta 0:00:01\r\u001b[K     |█████████████████████████████▌  | 1.2MB 9.1MB/s eta 0:00:01\r\u001b[K     |█████████████████████████████▊  | 1.2MB 9.1MB/s eta 0:00:01\r\u001b[K     |██████████████████████████████  | 1.2MB 9.1MB/s eta 0:00:01\r\u001b[K     |██████████████████████████████▎ | 1.2MB 9.1MB/s eta 0:00:01\r\u001b[K     |██████████████████████████████▌ | 1.2MB 9.1MB/s eta 0:00:01\r\u001b[K     |██████████████████████████████▊ | 1.2MB 9.1MB/s eta 0:00:01\r\u001b[K     |███████████████████████████████ | 1.2MB 9.1MB/s eta 0:00:01\r\u001b[K     |███████████████████████████████▎| 1.2MB 9.1MB/s eta 0:00:01\r\u001b[K     |███████████████████████████████▌| 1.2MB 9.1MB/s eta 0:00:01\r\u001b[K     |███████████████████████████████▉| 1.2MB 9.1MB/s eta 0:00:01\r\u001b[K     |████████████████████████████████| 1.3MB 9.1MB/s \n",
            "\u001b[?25hRequirement already satisfied: tqdm>=4.27 in /usr/local/lib/python3.6/dist-packages (from transformers) (4.41.1)\n",
            "Requirement already satisfied: requests in /usr/local/lib/python3.6/dist-packages (from transformers) (2.23.0)\n",
            "Collecting tokenizers==0.9.2\n",
            "\u001b[?25l  Downloading https://files.pythonhosted.org/packages/7c/a5/78be1a55b2ac8d6a956f0a211d372726e2b1dd2666bb537fea9b03abd62c/tokenizers-0.9.2-cp36-cp36m-manylinux1_x86_64.whl (2.9MB)\n",
            "\u001b[K     |████████████████████████████████| 2.9MB 21.2MB/s \n",
            "\u001b[?25hRequirement already satisfied: filelock in /usr/local/lib/python3.6/dist-packages (from transformers) (3.0.12)\n",
            "Requirement already satisfied: protobuf in /usr/local/lib/python3.6/dist-packages (from transformers) (3.12.4)\n",
            "Collecting sacremoses\n",
            "\u001b[?25l  Downloading https://files.pythonhosted.org/packages/7d/34/09d19aff26edcc8eb2a01bed8e98f13a1537005d31e95233fd48216eed10/sacremoses-0.0.43.tar.gz (883kB)\n",
            "\u001b[K     |████████████████████████████████| 890kB 55.3MB/s \n",
            "\u001b[?25hRequirement already satisfied: regex!=2019.12.17 in /usr/local/lib/python3.6/dist-packages (from transformers) (2019.12.20)\n",
            "Requirement already satisfied: dataclasses; python_version < \"3.7\" in /usr/local/lib/python3.6/dist-packages (from transformers) (0.7)\n",
            "Requirement already satisfied: numpy in /usr/local/lib/python3.6/dist-packages (from transformers) (1.18.5)\n",
            "Requirement already satisfied: packaging in /usr/local/lib/python3.6/dist-packages (from transformers) (20.4)\n",
            "Collecting sentencepiece!=0.1.92\n",
            "\u001b[?25l  Downloading https://files.pythonhosted.org/packages/e5/2d/6d4ca4bef9a67070fa1cac508606328329152b1df10bdf31fb6e4e727894/sentencepiece-0.1.94-cp36-cp36m-manylinux2014_x86_64.whl (1.1MB)\n",
            "\u001b[K     |████████████████████████████████| 1.1MB 50.2MB/s \n",
            "\u001b[?25hRequirement already satisfied: certifi>=2017.4.17 in /usr/local/lib/python3.6/dist-packages (from requests->transformers) (2020.6.20)\n",
            "Requirement already satisfied: chardet<4,>=3.0.2 in /usr/local/lib/python3.6/dist-packages (from requests->transformers) (3.0.4)\n",
            "Requirement already satisfied: idna<3,>=2.5 in /usr/local/lib/python3.6/dist-packages (from requests->transformers) (2.10)\n",
            "Requirement already satisfied: urllib3!=1.25.0,!=1.25.1,<1.26,>=1.21.1 in /usr/local/lib/python3.6/dist-packages (from requests->transformers) (1.24.3)\n",
            "Requirement already satisfied: six>=1.9 in /usr/local/lib/python3.6/dist-packages (from protobuf->transformers) (1.15.0)\n",
            "Requirement already satisfied: setuptools in /usr/local/lib/python3.6/dist-packages (from protobuf->transformers) (50.3.2)\n",
            "Requirement already satisfied: click in /usr/local/lib/python3.6/dist-packages (from sacremoses->transformers) (7.1.2)\n",
            "Requirement already satisfied: joblib in /usr/local/lib/python3.6/dist-packages (from sacremoses->transformers) (0.17.0)\n",
            "Requirement already satisfied: pyparsing>=2.0.2 in /usr/local/lib/python3.6/dist-packages (from packaging->transformers) (2.4.7)\n",
            "Building wheels for collected packages: sacremoses\n",
            "  Building wheel for sacremoses (setup.py) ... \u001b[?25l\u001b[?25hdone\n",
            "  Created wheel for sacremoses: filename=sacremoses-0.0.43-cp36-none-any.whl size=893257 sha256=6b0ee55b2cb78216394dd97dffe233bd4e89c7d10e05cede1ded584ea89ef6f9\n",
            "  Stored in directory: /root/.cache/pip/wheels/29/3c/fd/7ce5c3f0666dab31a50123635e6fb5e19ceb42ce38d4e58f45\n",
            "Successfully built sacremoses\n",
            "Installing collected packages: tokenizers, sacremoses, sentencepiece, transformers\n",
            "Successfully installed sacremoses-0.0.43 sentencepiece-0.1.94 tokenizers-0.9.2 transformers-3.4.0\n"
          ],
          "name": "stdout"
        }
      ]
    },
    {
      "cell_type": "code",
      "metadata": {
        "id": "J-iw4jxJDq96",
        "outputId": "58b2e293-3b2b-4f77-c5a1-2641c622c046",
        "colab": {
          "base_uri": "https://localhost:8080/"
        }
      },
      "source": [
        "# If there's a GPU available, tell PyTorch to use the GPU, otherwise use CPU\n",
        "if torch.cuda.is_available():    \n",
        "    device = torch.device(\"cuda\")\n",
        "    print('There are %d GPU(s) available.' % torch.cuda.device_count())\n",
        "    print('We will use the GPU:', torch.cuda.get_device_name(0))\n",
        "else:\n",
        "    print('No GPU available, using the CPU instead.')\n",
        "    device = torch.device(\"cpu\")"
      ],
      "execution_count": null,
      "outputs": [
        {
          "output_type": "stream",
          "text": [
            "There are 1 GPU(s) available.\n",
            "We will use the GPU: Tesla T4\n"
          ],
          "name": "stdout"
        }
      ]
    },
    {
      "cell_type": "code",
      "metadata": {
        "id": "R3plAu49klt3"
      },
      "source": [
        "# loading json files from google drive\n",
        "!unzip -qq '/content/drive/My Drive/Fall 2020/Capstone/Capstone Shared/Text/textdata'"
      ],
      "execution_count": null,
      "outputs": []
    },
    {
      "cell_type": "code",
      "metadata": {
        "id": "FOMPUWmThDtl",
        "outputId": "edb54473-054f-4b95-d097-4f2bf3ba120b",
        "colab": {
          "base_uri": "https://localhost:8080/",
          "height": 111
        }
      },
      "source": [
        "file = open('/content/textdata.json')\n",
        "df = pd.read_json(file)\n",
        "df.head(2)"
      ],
      "execution_count": null,
      "outputs": [
        {
          "output_type": "execute_result",
          "data": {
            "text/html": [
              "<div>\n",
              "<style scoped>\n",
              "    .dataframe tbody tr th:only-of-type {\n",
              "        vertical-align: middle;\n",
              "    }\n",
              "\n",
              "    .dataframe tbody tr th {\n",
              "        vertical-align: top;\n",
              "    }\n",
              "\n",
              "    .dataframe thead th {\n",
              "        text-align: right;\n",
              "    }\n",
              "</style>\n",
              "<table border=\"1\" class=\"dataframe\">\n",
              "  <thead>\n",
              "    <tr style=\"text-align: right;\">\n",
              "      <th></th>\n",
              "      <th>id</th>\n",
              "      <th>img</th>\n",
              "      <th>text</th>\n",
              "      <th>source</th>\n",
              "      <th>old_id</th>\n",
              "      <th>label</th>\n",
              "      <th>split</th>\n",
              "    </tr>\n",
              "  </thead>\n",
              "  <tbody>\n",
              "    <tr>\n",
              "      <th>0</th>\n",
              "      <td>11758</td>\n",
              "      <td></td>\n",
              "      <td>Find me at</td>\n",
              "      <td>opensourcepaper</td>\n",
              "      <td>1056228733487603712</td>\n",
              "      <td>0</td>\n",
              "      <td>training</td>\n",
              "    </tr>\n",
              "    <tr>\n",
              "      <th>1</th>\n",
              "      <td>7582</td>\n",
              "      <td></td>\n",
              "      <td>10:00 PMET DOES THIS OFFEND YOU?</td>\n",
              "      <td>opensourcepaper</td>\n",
              "      <td>1050722238360514560</td>\n",
              "      <td>1</td>\n",
              "      <td>training</td>\n",
              "    </tr>\n",
              "  </tbody>\n",
              "</table>\n",
              "</div>"
            ],
            "text/plain": [
              "      id img  ... label     split\n",
              "0  11758      ...     0  training\n",
              "1   7582      ...     1  training\n",
              "\n",
              "[2 rows x 7 columns]"
            ]
          },
          "metadata": {
            "tags": []
          },
          "execution_count": 5
        }
      ]
    },
    {
      "cell_type": "markdown",
      "metadata": {
        "id": "THPdibF5ZYbB"
      },
      "source": [
        "## **Data Preprocessing**\n",
        "The text feature in the train and test sets are noisy . One way to clean the feature is by removing:\n",
        "- URLs\n",
        "- html content"
      ]
    },
    {
      "cell_type": "code",
      "metadata": {
        "id": "YW38mtdfZXwn",
        "outputId": "f54f1692-11fe-4030-bbab-8015406fb595",
        "colab": {
          "base_uri": "https://localhost:8080/",
          "height": 173
        }
      },
      "source": [
        "#Clean the text\n",
        "def remove_URL(text):\n",
        "    url = re.compile(r'http\\S+')\n",
        "    return url.sub(r'', text)\n",
        "\n",
        "def remove_html(text):\n",
        "    html = re.compile(r'<.*?>|&([a-z0-9]+|#[0-9]{1,6}|#x[0-9a-f]{1,6});')\n",
        "    return re.sub(html, '', text)\n",
        "\n",
        "def remove_user(text):\n",
        "    user = re.compile(r'(@[A-Za-z0-9]+)|([^0-9A-Za-z \\t])|(\\w+:\\/\\/\\S+)')\n",
        "    return re.sub(user, '', text)\n",
        "\n",
        "# Applying helper functions\n",
        "df['text_clean'] = df['text'].apply(lambda x: remove_URL(x))\n",
        "df['text_clean'] = df['text_clean'].apply(lambda x: remove_html(x))\n",
        "df['text_clean'] = df['text_clean'].apply(lambda x: remove_user(x))\n",
        "df.head(4)"
      ],
      "execution_count": null,
      "outputs": [
        {
          "output_type": "execute_result",
          "data": {
            "text/html": [
              "<div>\n",
              "<style scoped>\n",
              "    .dataframe tbody tr th:only-of-type {\n",
              "        vertical-align: middle;\n",
              "    }\n",
              "\n",
              "    .dataframe tbody tr th {\n",
              "        vertical-align: top;\n",
              "    }\n",
              "\n",
              "    .dataframe thead th {\n",
              "        text-align: right;\n",
              "    }\n",
              "</style>\n",
              "<table border=\"1\" class=\"dataframe\">\n",
              "  <thead>\n",
              "    <tr style=\"text-align: right;\">\n",
              "      <th></th>\n",
              "      <th>id</th>\n",
              "      <th>img</th>\n",
              "      <th>text</th>\n",
              "      <th>source</th>\n",
              "      <th>old_id</th>\n",
              "      <th>label</th>\n",
              "      <th>split</th>\n",
              "      <th>text_clean</th>\n",
              "    </tr>\n",
              "  </thead>\n",
              "  <tbody>\n",
              "    <tr>\n",
              "      <th>0</th>\n",
              "      <td>11758</td>\n",
              "      <td></td>\n",
              "      <td>Find me at</td>\n",
              "      <td>opensourcepaper</td>\n",
              "      <td>1056228733487603712</td>\n",
              "      <td>0</td>\n",
              "      <td>training</td>\n",
              "      <td>Find me at</td>\n",
              "    </tr>\n",
              "    <tr>\n",
              "      <th>1</th>\n",
              "      <td>7582</td>\n",
              "      <td></td>\n",
              "      <td>10:00 PMET DOES THIS OFFEND YOU?</td>\n",
              "      <td>opensourcepaper</td>\n",
              "      <td>1050722238360514560</td>\n",
              "      <td>1</td>\n",
              "      <td>training</td>\n",
              "      <td>1000 PMET DOES THIS OFFEND YOU</td>\n",
              "    </tr>\n",
              "    <tr>\n",
              "      <th>2</th>\n",
              "      <td>6780</td>\n",
              "      <td></td>\n",
              "      <td>I don't like messy queens. Idon't like cheap q...</td>\n",
              "      <td>opensourcepaper</td>\n",
              "      <td>1047330454024552448</td>\n",
              "      <td>1</td>\n",
              "      <td>training</td>\n",
              "      <td>I dont like messy queens Idont like cheap quee...</td>\n",
              "    </tr>\n",
              "    <tr>\n",
              "      <th>3</th>\n",
              "      <td>11414</td>\n",
              "      <td></td>\n",
              "      <td>ⓒMUFC</td>\n",
              "      <td>opensourcepaper</td>\n",
              "      <td>1055944923286044672</td>\n",
              "      <td>0</td>\n",
              "      <td>training</td>\n",
              "      <td>MUFC</td>\n",
              "    </tr>\n",
              "  </tbody>\n",
              "</table>\n",
              "</div>"
            ],
            "text/plain": [
              "      id img  ...     split                                         text_clean\n",
              "0  11758      ...  training                                        Find me at \n",
              "1   7582      ...  training                    1000 PMET DOES THIS OFFEND YOU \n",
              "2   6780      ...  training  I dont like messy queens Idont like cheap quee...\n",
              "3  11414      ...  training                                              MUFC \n",
              "\n",
              "[4 rows x 8 columns]"
            ]
          },
          "metadata": {
            "tags": []
          },
          "execution_count": 6
        }
      ]
    },
    {
      "cell_type": "code",
      "metadata": {
        "id": "3tHN56LxVCqT",
        "outputId": "1f12472c-9481-4fd6-a778-d06dd3c6c063",
        "colab": {
          "base_uri": "https://localhost:8080/",
          "height": 282
        }
      },
      "source": [
        "# get word counts\n",
        "df['word_count'] = df.text_clean.map(lambda text_clean: len(text_clean.split(\" \")))\n",
        "df['word_count'].plot.hist(alpha=0.5)"
      ],
      "execution_count": null,
      "outputs": [
        {
          "output_type": "execute_result",
          "data": {
            "text/plain": [
              "<matplotlib.axes._subplots.AxesSubplot at 0x7f258f5104a8>"
            ]
          },
          "metadata": {
            "tags": []
          },
          "execution_count": 7
        },
        {
          "output_type": "display_data",
          "data": {
            "image/png": "[encoded data removed]",
            "text/plain": [
              "<Figure size 432x288 with 1 Axes>"
            ]
          },
          "metadata": {
            "tags": [],
            "needs_background": "light"
          }
        }
      ]
    },
    {
      "cell_type": "code",
      "metadata": {
        "id": "2uIg_wZB4Xnn"
      },
      "source": [
        "# exclude below 200 words\n",
        "df = df[df.word_count<50]"
      ],
      "execution_count": null,
      "outputs": []
    },
    {
      "cell_type": "code",
      "metadata": {
        "id": "BcXvZKtgn6bP"
      },
      "source": [
        "# getting indexes to use later on data loaders\n",
        "df = df.reset_index()\n",
        "training_index = df[df.split == 'training'].index.values\n",
        "validation_index = df[df.split == 'validation'].index.values\n",
        "testing_index = df[df.split == 'testing'].index.values"
      ],
      "execution_count": null,
      "outputs": []
    },
    {
      "cell_type": "code",
      "metadata": {
        "id": "mSRKrwGxFj-K"
      },
      "source": [
        "# Get the lists of sentences and their labels (of the training set) as numpy arrays\n",
        "# training\n",
        "sentences = df.text_clean.values\n",
        "labels = df.label.values #  (0=not-hateful, 1=hateful)."
      ],
      "execution_count": null,
      "outputs": []
    },
    {
      "cell_type": "code",
      "metadata": {
        "id": "eDzAwvWkF2hI",
        "outputId": "eabbe178-393f-4b18-d567-8615919dad42",
        "colab": {
          "base_uri": "https://localhost:8080/",
          "height": 83,
          "referenced_widgets": [
            "6b626fee441149ac9193363a5ad8f63e",
            "9b0120da510243ab9bffbb425f83e052",
            "1e32ab144a8f42e28a0c3832c20ffd73",
            "ad6e0c9c42d74c5890def7716446a0d0",
            "23e46257d2e6428e909a6a07c2ad85bf",
            "22d71fd7cfbb45568db87e327388b770",
            "6b5c7365f834456198bd4eb2722c6c88",
            "3f4a0e1465034eb597b7d3e3a7be47dc"
          ]
        }
      },
      "source": [
        "#Tokenization & Input Formatting - Load the BERT tokenizer\n",
        "print('Loading BERT tokenizer...')\n",
        "tokenizer = BertTokenizer.from_pretrained('bert-base-uncased', do_lower_case=True)"
      ],
      "execution_count": null,
      "outputs": [
        {
          "output_type": "stream",
          "text": [
            "Loading BERT tokenizer...\n"
          ],
          "name": "stdout"
        },
        {
          "output_type": "display_data",
          "data": {
            "application/vnd.jupyter.widget-view+json": {
              "model_id": "6b626fee441149ac9193363a5ad8f63e",
              "version_minor": 0,
              "version_major": 2
            },
            "text/plain": [
              "HBox(children=(FloatProgress(value=0.0, description='Downloading', max=231508.0, style=ProgressStyle(descripti…"
            ]
          },
          "metadata": {
            "tags": []
          }
        },
        {
          "output_type": "stream",
          "text": [
            "\n"
          ],
          "name": "stdout"
        }
      ]
    },
    {
      "cell_type": "markdown",
      "metadata": {
        "id": "QoS4MklD09Xr"
      },
      "source": [
        "To see the code for Tokenization <br>\n",
        "https://github.com/google-research/bert/blob/master/tokenization.py <br>\n",
        "\n",
        "As we saw in the quicktour, the tokenizer will first split a given text in words (or part of words, punctuation symbols, etc.) usually called tokens. Then it will convert those tokens into numbers, to be able to build a tensor out of them and feed them to the model. It will also add any additional inputs the model might expect to work properly. <br>\n",
        "https://huggingface.co/transformers/preprocessing.html"
      ]
    },
    {
      "cell_type": "markdown",
      "metadata": {
        "id": "LPawWF01HLE1"
      },
      "source": [
        "### BERT has two constraints:\n",
        "- All sentences must be padded or truncated to a single, fixed length.\n",
        "- The maximum sentence length is 512 tokens."
      ]
    },
    {
      "cell_type": "code",
      "metadata": {
        "id": "JH5tEcQn1LgP",
        "outputId": "7dad84dd-f849-441f-bb0f-bd8e6a97cc35",
        "colab": {
          "base_uri": "https://localhost:8080/"
        }
      },
      "source": [
        "# Tokenize all of the sentences and map the tokens to thier word IDs.\n",
        "input_ids = []\n",
        "# For every sentence...\n",
        "for sent in sentences:\n",
        "  sentence = sent #get only first 200 characters\n",
        "\n",
        "    # `encode` will:\n",
        "    #   (1) Tokenize the sentence.\n",
        "    #   (2) Prepend the `[CLS]` token to the start and `[SEP]` token to the end.\n",
        "    #   (4) Map tokens to their IDs.\n",
        "  encoded_sent = tokenizer.encode(sentence, add_special_tokens = True,)\n",
        "    \n",
        "  # Add the encoded sentence to the list.\n",
        "  input_ids.append(encoded_sent)\n",
        "\n",
        "# Print sentence 0, now as a list of IDs.\n",
        "print('Original: ', sentences[0])\n",
        "print('Token IDs:', input_ids[0])\n",
        "\n",
        "max = max([len(sen) for sen in input_ids])\n",
        "print('Max sentence length training: ', max)"
      ],
      "execution_count": null,
      "outputs": [
        {
          "output_type": "stream",
          "text": [
            "Original:  Find me at \n",
            "Token IDs: [101, 2424, 2033, 2012, 102]\n",
            "Max sentence length training:  97\n"
          ],
          "name": "stdout"
        }
      ]
    },
    {
      "cell_type": "code",
      "metadata": {
        "id": "yakp4MlhH1FW",
        "outputId": "ea45c8d5-a957-4c31-d293-41f082bfccdd",
        "colab": {
          "base_uri": "https://localhost:8080/"
        }
      },
      "source": [
        "# Padding and truncating\n",
        "# Set the maximum sequence length and apply padding. \n",
        "from keras.preprocessing.sequence import pad_sequences\n",
        "MAX_LEN = max\n",
        "\n",
        "print('\\nPadding/truncating all sentences to %d values...' % MAX_LEN)\n",
        "print('\\nPadding token: \"{:}\", ID: {:}'.format(tokenizer.pad_token, tokenizer.pad_token_id))\n",
        "\n",
        "# Pad our input tokens with value 0. \"post\" indicates that we want to pad and truncate at the end of the sequence, as opposed to the beginning.\n",
        "input_ids = pad_sequences(input_ids, maxlen=MAX_LEN, dtype=\"long\", value=0, truncating=\"post\", padding=\"post\")\n",
        "print('\\Done.')\n",
        "print('Max sentence length: ', MAX_LEN)"
      ],
      "execution_count": null,
      "outputs": [
        {
          "output_type": "stream",
          "text": [
            "\n",
            "Padding/truncating all sentences to 97 values...\n",
            "\n",
            "Padding token: \"[PAD]\", ID: 0\n",
            "\\Done.\n",
            "Max sentence length:  97\n"
          ],
          "name": "stdout"
        }
      ]
    },
    {
      "cell_type": "code",
      "metadata": {
        "id": "HTupiChqIAfh"
      },
      "source": [
        "# Create Attention Masks for each sentence\n",
        "attention_masks = []\n",
        "for sent in input_ids:\n",
        "    #   - If a token ID is 0, then it's padding, set the mask to 0.\n",
        "    #   - If a token ID is > 0, then it's a real token, set the mask to 1.\n",
        "    att_mask = [int(token_id > 0) for token_id in sent]\n",
        "    \n",
        "    # Store the attention mask for this sentence.\n",
        "    attention_masks.append(att_mask)"
      ],
      "execution_count": null,
      "outputs": []
    },
    {
      "cell_type": "code",
      "metadata": {
        "id": "QThn4-kYIP1J"
      },
      "source": [
        "# Convert all inputs and labels into torch tensors, the required datatype for our model. Slice based on the index for training, validation and testing\n",
        "inputs_training = torch.tensor(input_ids[~training_index])\n",
        "inputs_validation = torch.tensor(input_ids[~validation_index])\n",
        "inputs_testing = torch.tensor(input_ids[~testing_index])\n",
        "\n",
        "# labels\n",
        "labels_training = torch.tensor(labels[~training_index])\n",
        "labels_validation = torch.tensor(labels[~validation_index])\n",
        "labels_testing = torch.tensor(labels[~testing_index])\n",
        "\n",
        "# masks\n",
        "attention_masks = np.array(attention_masks)\n",
        "masks_training = torch.tensor(attention_masks[~training_index])\n",
        "masks_validation = torch.tensor(attention_masks[~validation_index])\n",
        "masks_testing = torch.tensor(attention_masks[~testing_index])"
      ],
      "execution_count": null,
      "outputs": []
    },
    {
      "cell_type": "code",
      "metadata": {
        "id": "Oqz5r9MvISn4"
      },
      "source": [
        "from torch.utils.data import TensorDataset, DataLoader, RandomSampler, SequentialSampler\n",
        "# The DataLoader needs to know our batch size for training, so we specify it here.\n",
        "# For fine-tuning BERT on a specific task, the authors recommend a batch size of 16 or 32.\n",
        "\n",
        "batch_size = 32\n",
        "# Create the DataLoader for our training set.\n",
        "training_data = TensorDataset(inputs_training, masks_training, labels_training)\n",
        "training_sampler = RandomSampler(training_data)\n",
        "training_dataloader = DataLoader(training_data, sampler=training_sampler, batch_size=batch_size)\n",
        "\n",
        "# Create the DataLoader for our validation set.\n",
        "validation_data = TensorDataset(inputs_validation, masks_validation, labels_validation)\n",
        "validation_sampler = SequentialSampler(validation_data)\n",
        "validation_dataloader = DataLoader(validation_data, sampler=validation_sampler, batch_size=batch_size)\n",
        "\n",
        "# Create the DataLoader for our testing set.\n",
        "testing_data = TensorDataset(inputs_testing, masks_testing, labels_testing)\n",
        "testing_sampler = SequentialSampler(testing_data)\n",
        "testing_dataloader = DataLoader(testing_data, sampler=testing_sampler, batch_size=batch_size)"
      ],
      "execution_count": null,
      "outputs": []
    },
    {
      "cell_type": "code",
      "metadata": {
        "id": "6HVlpDXVtjF4"
      },
      "source": [
        "#iteration = next(iter(training_data))\n",
        "#iteration"
      ],
      "execution_count": null,
      "outputs": []
    },
    {
      "cell_type": "code",
      "metadata": {
        "id": "J9-Bi1N6uSpH"
      },
      "source": [
        "#iteration[0].size()"
      ],
      "execution_count": null,
      "outputs": []
    },
    {
      "cell_type": "markdown",
      "metadata": {
        "id": "V9Az64NHLPpG"
      },
      "source": [
        "## 4. Train Our Classification Model"
      ]
    },
    {
      "cell_type": "markdown",
      "metadata": {
        "id": "sXMzumTCyP1_"
      },
      "source": [
        "For this task, we first want to modify the pre-trained BERT model to give outputs for classification. The huggingface pytorch implementation includes a set of interfaces designed for a variety of NLP tasks. We’ll be using __Bert Classification Model__.This is the normal BERT model with an added single linear layer on top for classification that we will use as a sentence classifier. As we feed input data, the entire pre-trained BERT model and the additional untrained classification layer is trained on our specific task."
      ]
    },
    {
      "cell_type": "code",
      "metadata": {
        "id": "YB5TsL15LKYK",
        "outputId": "7f8cc76d-7ea6-44b5-ff09-27e06f158aad",
        "colab": {
          "base_uri": "https://localhost:8080/",
          "height": 1000,
          "referenced_widgets": [
            "e60a6251d7b34c2395d56dac6bdfd651",
            "7201d4e0656e44c3ba6ad014d090f2f3",
            "4a7585fb895f4ad28ea4f872fad08508",
            "3cfb718983a44055b0dcbd4d53e3abf5",
            "1245d826f8eb4f70938baa14be3de3ce",
            "6adb4dc9ddb94772bc4f62d224934a2c",
            "27cd790697c8435bab7eb7b7c939d13a",
            "8680f121688d4044b3df54efbfa85e80",
            "9979c9fe37f04ec39b60dce587786f5f",
            "cb548d0f130b4f1b859f8a993f41ecb5",
            "f3e0266f490f4a6a82f0e65216046b07",
            "0d64cdeb5c544ad7b1b74428e6b96132",
            "0acbab55931344c2a204f75370089c06",
            "06b724d9b02944d783e0bf630acebb50",
            "cff338b38025429ead4d11ae696a101c",
            "f72eac98869c4c37b2e3393a3ebb4c53"
          ]
        }
      },
      "source": [
        "# Train Our Classification Model\n",
        "from transformers import BertForSequenceClassification, AdamW, BertConfig\n",
        "# Load BertForSequenceClassification, the pretrained BERT model with a single linear classification layer on top. \n",
        "model = BertForSequenceClassification.from_pretrained(\n",
        "    \"bert-base-uncased\", # Use the 6-layer BERT model, with an uncased vocab.\n",
        "    num_labels = 2, # The number of output labels--2 for binary classification.\n",
        "                    # You can increase this for multi-class tasks.   \n",
        "    output_attentions = False, # Whether the model returns attentions weights.\n",
        "    output_hidden_states = False, # Whether the model returns all hidden-states.\n",
        ")\n",
        "# Tell pytorch to run this model on the GPU.\n",
        "model.cuda()"
      ],
      "execution_count": null,
      "outputs": [
        {
          "output_type": "display_data",
          "data": {
            "application/vnd.jupyter.widget-view+json": {
              "model_id": "e60a6251d7b34c2395d56dac6bdfd651",
              "version_minor": 0,
              "version_major": 2
            },
            "text/plain": [
              "HBox(children=(FloatProgress(value=0.0, description='Downloading', max=433.0, style=ProgressStyle(description_…"
            ]
          },
          "metadata": {
            "tags": []
          }
        },
        {
          "output_type": "stream",
          "text": [
            "\n"
          ],
          "name": "stdout"
        },
        {
          "output_type": "display_data",
          "data": {
            "application/vnd.jupyter.widget-view+json": {
              "model_id": "9979c9fe37f04ec39b60dce587786f5f",
              "version_minor": 0,
              "version_major": 2
            },
            "text/plain": [
              "HBox(children=(FloatProgress(value=0.0, description='Downloading', max=440473133.0, style=ProgressStyle(descri…"
            ]
          },
          "metadata": {
            "tags": []
          }
        },
        {
          "output_type": "stream",
          "text": [
            "\n"
          ],
          "name": "stdout"
        },
        {
          "output_type": "stream",
          "text": [
            "Some weights of the model checkpoint at bert-base-uncased were not used when initializing BertForSequenceClassification: ['cls.predictions.bias', 'cls.predictions.transform.dense.weight', 'cls.predictions.transform.dense.bias', 'cls.predictions.decoder.weight', 'cls.seq_relationship.weight', 'cls.seq_relationship.bias', 'cls.predictions.transform.LayerNorm.weight', 'cls.predictions.transform.LayerNorm.bias']\n",
            "- This IS expected if you are initializing BertForSequenceClassification from the checkpoint of a model trained on another task or with another architecture (e.g. initializing a BertForSequenceClassification model from a BertForPretraining model).\n",
            "- This IS NOT expected if you are initializing BertForSequenceClassification from the checkpoint of a model that you expect to be exactly identical (initializing a BertForSequenceClassification model from a BertForSequenceClassification model).\n",
            "Some weights of BertForSequenceClassification were not initialized from the model checkpoint at bert-base-uncased and are newly initialized: ['classifier.weight', 'classifier.bias']\n",
            "You should probably TRAIN this model on a down-stream task to be able to use it for predictions and inference.\n"
          ],
          "name": "stderr"
        },
        {
          "output_type": "execute_result",
          "data": {
            "text/plain": [
              "BertForSequenceClassification(\n",
              "  (bert): BertModel(\n",
              "    (embeddings): BertEmbeddings(\n",
              "      (word_embeddings): Embedding(30522, 768, padding_idx=0)\n",
              "      (position_embeddings): Embedding(512, 768)\n",
              "      (token_type_embeddings): Embedding(2, 768)\n",
              "      (LayerNorm): LayerNorm((768,), eps=1e-12, elementwise_affine=True)\n",
              "      (dropout): Dropout(p=0.1, inplace=False)\n",
              "    )\n",
              "    (encoder): BertEncoder(\n",
              "      (layer): ModuleList(\n",
              "        (0): BertLayer(\n",
              "          (attention): BertAttention(\n",
              "            (self): BertSelfAttention(\n",
              "              (query): Linear(in_features=768, out_features=768, bias=True)\n",
              "              (key): Linear(in_features=768, out_features=768, bias=True)\n",
              "              (value): Linear(in_features=768, out_features=768, bias=True)\n",
              "              (dropout): Dropout(p=0.1, inplace=False)\n",
              "            )\n",
              "            (output): BertSelfOutput(\n",
              "              (dense): Linear(in_features=768, out_features=768, bias=True)\n",
              "              (LayerNorm): LayerNorm((768,), eps=1e-12, elementwise_affine=True)\n",
              "              (dropout): Dropout(p=0.1, inplace=False)\n",
              "            )\n",
              "          )\n",
              "          (intermediate): BertIntermediate(\n",
              "            (dense): Linear(in_features=768, out_features=3072, bias=True)\n",
              "          )\n",
              "          (output): BertOutput(\n",
              "            (dense): Linear(in_features=3072, out_features=768, bias=True)\n",
              "            (LayerNorm): LayerNorm((768,), eps=1e-12, elementwise_affine=True)\n",
              "            (dropout): Dropout(p=0.1, inplace=False)\n",
              "          )\n",
              "        )\n",
              "        (1): BertLayer(\n",
              "          (attention): BertAttention(\n",
              "            (self): BertSelfAttention(\n",
              "              (query): Linear(in_features=768, out_features=768, bias=True)\n",
              "              (key): Linear(in_features=768, out_features=768, bias=True)\n",
              "              (value): Linear(in_features=768, out_features=768, bias=True)\n",
              "              (dropout): Dropout(p=0.1, inplace=False)\n",
              "            )\n",
              "            (output): BertSelfOutput(\n",
              "              (dense): Linear(in_features=768, out_features=768, bias=True)\n",
              "              (LayerNorm): LayerNorm((768,), eps=1e-12, elementwise_affine=True)\n",
              "              (dropout): Dropout(p=0.1, inplace=False)\n",
              "            )\n",
              "          )\n",
              "          (intermediate): BertIntermediate(\n",
              "            (dense): Linear(in_features=768, out_features=3072, bias=True)\n",
              "          )\n",
              "          (output): BertOutput(\n",
              "            (dense): Linear(in_features=3072, out_features=768, bias=True)\n",
              "            (LayerNorm): LayerNorm((768,), eps=1e-12, elementwise_affine=True)\n",
              "            (dropout): Dropout(p=0.1, inplace=False)\n",
              "          )\n",
              "        )\n",
              "        (2): BertLayer(\n",
              "          (attention): BertAttention(\n",
              "            (self): BertSelfAttention(\n",
              "              (query): Linear(in_features=768, out_features=768, bias=True)\n",
              "              (key): Linear(in_features=768, out_features=768, bias=True)\n",
              "              (value): Linear(in_features=768, out_features=768, bias=True)\n",
              "              (dropout): Dropout(p=0.1, inplace=False)\n",
              "            )\n",
              "            (output): BertSelfOutput(\n",
              "              (dense): Linear(in_features=768, out_features=768, bias=True)\n",
              "              (LayerNorm): LayerNorm((768,), eps=1e-12, elementwise_affine=True)\n",
              "              (dropout): Dropout(p=0.1, inplace=False)\n",
              "            )\n",
              "          )\n",
              "          (intermediate): BertIntermediate(\n",
              "            (dense): Linear(in_features=768, out_features=3072, bias=True)\n",
              "          )\n",
              "          (output): BertOutput(\n",
              "            (dense): Linear(in_features=3072, out_features=768, bias=True)\n",
              "            (LayerNorm): LayerNorm((768,), eps=1e-12, elementwise_affine=True)\n",
              "            (dropout): Dropout(p=0.1, inplace=False)\n",
              "          )\n",
              "        )\n",
              "        (3): BertLayer(\n",
              "          (attention): BertAttention(\n",
              "            (self): BertSelfAttention(\n",
              "              (query): Linear(in_features=768, out_features=768, bias=True)\n",
              "              (key): Linear(in_features=768, out_features=768, bias=True)\n",
              "              (value): Linear(in_features=768, out_features=768, bias=True)\n",
              "              (dropout): Dropout(p=0.1, inplace=False)\n",
              "            )\n",
              "            (output): BertSelfOutput(\n",
              "              (dense): Linear(in_features=768, out_features=768, bias=True)\n",
              "              (LayerNorm): LayerNorm((768,), eps=1e-12, elementwise_affine=True)\n",
              "              (dropout): Dropout(p=0.1, inplace=False)\n",
              "            )\n",
              "          )\n",
              "          (intermediate): BertIntermediate(\n",
              "            (dense): Linear(in_features=768, out_features=3072, bias=True)\n",
              "          )\n",
              "          (output): BertOutput(\n",
              "            (dense): Linear(in_features=3072, out_features=768, bias=True)\n",
              "            (LayerNorm): LayerNorm((768,), eps=1e-12, elementwise_affine=True)\n",
              "            (dropout): Dropout(p=0.1, inplace=False)\n",
              "          )\n",
              "        )\n",
              "        (4): BertLayer(\n",
              "          (attention): BertAttention(\n",
              "            (self): BertSelfAttention(\n",
              "              (query): Linear(in_features=768, out_features=768, bias=True)\n",
              "              (key): Linear(in_features=768, out_features=768, bias=True)\n",
              "              (value): Linear(in_features=768, out_features=768, bias=True)\n",
              "              (dropout): Dropout(p=0.1, inplace=False)\n",
              "            )\n",
              "            (output): BertSelfOutput(\n",
              "              (dense): Linear(in_features=768, out_features=768, bias=True)\n",
              "              (LayerNorm): LayerNorm((768,), eps=1e-12, elementwise_affine=True)\n",
              "              (dropout): Dropout(p=0.1, inplace=False)\n",
              "            )\n",
              "          )\n",
              "          (intermediate): BertIntermediate(\n",
              "            (dense): Linear(in_features=768, out_features=3072, bias=True)\n",
              "          )\n",
              "          (output): BertOutput(\n",
              "            (dense): Linear(in_features=3072, out_features=768, bias=True)\n",
              "            (LayerNorm): LayerNorm((768,), eps=1e-12, elementwise_affine=True)\n",
              "            (dropout): Dropout(p=0.1, inplace=False)\n",
              "          )\n",
              "        )\n",
              "        (5): BertLayer(\n",
              "          (attention): BertAttention(\n",
              "            (self): BertSelfAttention(\n",
              "              (query): Linear(in_features=768, out_features=768, bias=True)\n",
              "              (key): Linear(in_features=768, out_features=768, bias=True)\n",
              "              (value): Linear(in_features=768, out_features=768, bias=True)\n",
              "              (dropout): Dropout(p=0.1, inplace=False)\n",
              "            )\n",
              "            (output): BertSelfOutput(\n",
              "              (dense): Linear(in_features=768, out_features=768, bias=True)\n",
              "              (LayerNorm): LayerNorm((768,), eps=1e-12, elementwise_affine=True)\n",
              "              (dropout): Dropout(p=0.1, inplace=False)\n",
              "            )\n",
              "          )\n",
              "          (intermediate): BertIntermediate(\n",
              "            (dense): Linear(in_features=768, out_features=3072, bias=True)\n",
              "          )\n",
              "          (output): BertOutput(\n",
              "            (dense): Linear(in_features=3072, out_features=768, bias=True)\n",
              "            (LayerNorm): LayerNorm((768,), eps=1e-12, elementwise_affine=True)\n",
              "            (dropout): Dropout(p=0.1, inplace=False)\n",
              "          )\n",
              "        )\n",
              "        (6): BertLayer(\n",
              "          (attention): BertAttention(\n",
              "            (self): BertSelfAttention(\n",
              "              (query): Linear(in_features=768, out_features=768, bias=True)\n",
              "              (key): Linear(in_features=768, out_features=768, bias=True)\n",
              "              (value): Linear(in_features=768, out_features=768, bias=True)\n",
              "              (dropout): Dropout(p=0.1, inplace=False)\n",
              "            )\n",
              "            (output): BertSelfOutput(\n",
              "              (dense): Linear(in_features=768, out_features=768, bias=True)\n",
              "              (LayerNorm): LayerNorm((768,), eps=1e-12, elementwise_affine=True)\n",
              "              (dropout): Dropout(p=0.1, inplace=False)\n",
              "            )\n",
              "          )\n",
              "          (intermediate): BertIntermediate(\n",
              "            (dense): Linear(in_features=768, out_features=3072, bias=True)\n",
              "          )\n",
              "          (output): BertOutput(\n",
              "            (dense): Linear(in_features=3072, out_features=768, bias=True)\n",
              "            (LayerNorm): LayerNorm((768,), eps=1e-12, elementwise_affine=True)\n",
              "            (dropout): Dropout(p=0.1, inplace=False)\n",
              "          )\n",
              "        )\n",
              "        (7): BertLayer(\n",
              "          (attention): BertAttention(\n",
              "            (self): BertSelfAttention(\n",
              "              (query): Linear(in_features=768, out_features=768, bias=True)\n",
              "              (key): Linear(in_features=768, out_features=768, bias=True)\n",
              "              (value): Linear(in_features=768, out_features=768, bias=True)\n",
              "              (dropout): Dropout(p=0.1, inplace=False)\n",
              "            )\n",
              "            (output): BertSelfOutput(\n",
              "              (dense): Linear(in_features=768, out_features=768, bias=True)\n",
              "              (LayerNorm): LayerNorm((768,), eps=1e-12, elementwise_affine=True)\n",
              "              (dropout): Dropout(p=0.1, inplace=False)\n",
              "            )\n",
              "          )\n",
              "          (intermediate): BertIntermediate(\n",
              "            (dense): Linear(in_features=768, out_features=3072, bias=True)\n",
              "          )\n",
              "          (output): BertOutput(\n",
              "            (dense): Linear(in_features=3072, out_features=768, bias=True)\n",
              "            (LayerNorm): LayerNorm((768,), eps=1e-12, elementwise_affine=True)\n",
              "            (dropout): Dropout(p=0.1, inplace=False)\n",
              "          )\n",
              "        )\n",
              "        (8): BertLayer(\n",
              "          (attention): BertAttention(\n",
              "            (self): BertSelfAttention(\n",
              "              (query): Linear(in_features=768, out_features=768, bias=True)\n",
              "              (key): Linear(in_features=768, out_features=768, bias=True)\n",
              "              (value): Linear(in_features=768, out_features=768, bias=True)\n",
              "              (dropout): Dropout(p=0.1, inplace=False)\n",
              "            )\n",
              "            (output): BertSelfOutput(\n",
              "              (dense): Linear(in_features=768, out_features=768, bias=True)\n",
              "              (LayerNorm): LayerNorm((768,), eps=1e-12, elementwise_affine=True)\n",
              "              (dropout): Dropout(p=0.1, inplace=False)\n",
              "            )\n",
              "          )\n",
              "          (intermediate): BertIntermediate(\n",
              "            (dense): Linear(in_features=768, out_features=3072, bias=True)\n",
              "          )\n",
              "          (output): BertOutput(\n",
              "            (dense): Linear(in_features=3072, out_features=768, bias=True)\n",
              "            (LayerNorm): LayerNorm((768,), eps=1e-12, elementwise_affine=True)\n",
              "            (dropout): Dropout(p=0.1, inplace=False)\n",
              "          )\n",
              "        )\n",
              "        (9): BertLayer(\n",
              "          (attention): BertAttention(\n",
              "            (self): BertSelfAttention(\n",
              "              (query): Linear(in_features=768, out_features=768, bias=True)\n",
              "              (key): Linear(in_features=768, out_features=768, bias=True)\n",
              "              (value): Linear(in_features=768, out_features=768, bias=True)\n",
              "              (dropout): Dropout(p=0.1, inplace=False)\n",
              "            )\n",
              "            (output): BertSelfOutput(\n",
              "              (dense): Linear(in_features=768, out_features=768, bias=True)\n",
              "              (LayerNorm): LayerNorm((768,), eps=1e-12, elementwise_affine=True)\n",
              "              (dropout): Dropout(p=0.1, inplace=False)\n",
              "            )\n",
              "          )\n",
              "          (intermediate): BertIntermediate(\n",
              "            (dense): Linear(in_features=768, out_features=3072, bias=True)\n",
              "          )\n",
              "          (output): BertOutput(\n",
              "            (dense): Linear(in_features=3072, out_features=768, bias=True)\n",
              "            (LayerNorm): LayerNorm((768,), eps=1e-12, elementwise_affine=True)\n",
              "            (dropout): Dropout(p=0.1, inplace=False)\n",
              "          )\n",
              "        )\n",
              "        (10): BertLayer(\n",
              "          (attention): BertAttention(\n",
              "            (self): BertSelfAttention(\n",
              "              (query): Linear(in_features=768, out_features=768, bias=True)\n",
              "              (key): Linear(in_features=768, out_features=768, bias=True)\n",
              "              (value): Linear(in_features=768, out_features=768, bias=True)\n",
              "              (dropout): Dropout(p=0.1, inplace=False)\n",
              "            )\n",
              "            (output): BertSelfOutput(\n",
              "              (dense): Linear(in_features=768, out_features=768, bias=True)\n",
              "              (LayerNorm): LayerNorm((768,), eps=1e-12, elementwise_affine=True)\n",
              "              (dropout): Dropout(p=0.1, inplace=False)\n",
              "            )\n",
              "          )\n",
              "          (intermediate): BertIntermediate(\n",
              "            (dense): Linear(in_features=768, out_features=3072, bias=True)\n",
              "          )\n",
              "          (output): BertOutput(\n",
              "            (dense): Linear(in_features=3072, out_features=768, bias=True)\n",
              "            (LayerNorm): LayerNorm((768,), eps=1e-12, elementwise_affine=True)\n",
              "            (dropout): Dropout(p=0.1, inplace=False)\n",
              "          )\n",
              "        )\n",
              "        (11): BertLayer(\n",
              "          (attention): BertAttention(\n",
              "            (self): BertSelfAttention(\n",
              "              (query): Linear(in_features=768, out_features=768, bias=True)\n",
              "              (key): Linear(in_features=768, out_features=768, bias=True)\n",
              "              (value): Linear(in_features=768, out_features=768, bias=True)\n",
              "              (dropout): Dropout(p=0.1, inplace=False)\n",
              "            )\n",
              "            (output): BertSelfOutput(\n",
              "              (dense): Linear(in_features=768, out_features=768, bias=True)\n",
              "              (LayerNorm): LayerNorm((768,), eps=1e-12, elementwise_affine=True)\n",
              "              (dropout): Dropout(p=0.1, inplace=False)\n",
              "            )\n",
              "          )\n",
              "          (intermediate): BertIntermediate(\n",
              "            (dense): Linear(in_features=768, out_features=3072, bias=True)\n",
              "          )\n",
              "          (output): BertOutput(\n",
              "            (dense): Linear(in_features=3072, out_features=768, bias=True)\n",
              "            (LayerNorm): LayerNorm((768,), eps=1e-12, elementwise_affine=True)\n",
              "            (dropout): Dropout(p=0.1, inplace=False)\n",
              "          )\n",
              "        )\n",
              "      )\n",
              "    )\n",
              "    (pooler): BertPooler(\n",
              "      (dense): Linear(in_features=768, out_features=768, bias=True)\n",
              "      (activation): Tanh()\n",
              "    )\n",
              "  )\n",
              "  (dropout): Dropout(p=0.1, inplace=False)\n",
              "  (classifier): Linear(in_features=768, out_features=2, bias=True)\n",
              ")"
            ]
          },
          "metadata": {
            "tags": []
          },
          "execution_count": 19
        }
      ]
    },
    {
      "cell_type": "code",
      "metadata": {
        "id": "1RPXEYFlLnqp",
        "outputId": "8fc9efc0-b64f-4f98-e697-1323199bc9ac",
        "colab": {
          "base_uri": "https://localhost:8080/"
        }
      },
      "source": [
        "# Get all of the model's parameters as a list of tuples.\n",
        "params = list(model.named_parameters())\n",
        "print('The BERT model has {:} different named parameters.\\n'.format(len(params)))\n",
        "print('==== Embedding Layer ====\\n')\n",
        "for p in params[0:5]:\n",
        "    print(\"{:<55} {:>12}\".format(p[0], str(tuple(p[1].size()))))\n",
        "print('\\n==== First Transformer ====\\n')\n",
        "for p in params[5:21]:\n",
        "    print(\"{:<55} {:>12}\".format(p[0], str(tuple(p[1].size()))))\n",
        "print('\\n==== Output Layer ====\\n')\n",
        "for p in params[-4:]:\n",
        "    print(\"{:<55} {:>12}\".format(p[0], str(tuple(p[1].size()))))"
      ],
      "execution_count": null,
      "outputs": [
        {
          "output_type": "stream",
          "text": [
            "The BERT model has 201 different named parameters.\n",
            "\n",
            "==== Embedding Layer ====\n",
            "\n",
            "bert.embeddings.word_embeddings.weight                  (30522, 768)\n",
            "bert.embeddings.position_embeddings.weight                (512, 768)\n",
            "bert.embeddings.token_type_embeddings.weight                (2, 768)\n",
            "bert.embeddings.LayerNorm.weight                              (768,)\n",
            "bert.embeddings.LayerNorm.bias                                (768,)\n",
            "\n",
            "==== First Transformer ====\n",
            "\n",
            "bert.encoder.layer.0.attention.self.query.weight          (768, 768)\n",
            "bert.encoder.layer.0.attention.self.query.bias                (768,)\n",
            "bert.encoder.layer.0.attention.self.key.weight            (768, 768)\n",
            "bert.encoder.layer.0.attention.self.key.bias                  (768,)\n",
            "bert.encoder.layer.0.attention.self.value.weight          (768, 768)\n",
            "bert.encoder.layer.0.attention.self.value.bias                (768,)\n",
            "bert.encoder.layer.0.attention.output.dense.weight        (768, 768)\n",
            "bert.encoder.layer.0.attention.output.dense.bias              (768,)\n",
            "bert.encoder.layer.0.attention.output.LayerNorm.weight        (768,)\n",
            "bert.encoder.layer.0.attention.output.LayerNorm.bias          (768,)\n",
            "bert.encoder.layer.0.intermediate.dense.weight           (3072, 768)\n",
            "bert.encoder.layer.0.intermediate.dense.bias                 (3072,)\n",
            "bert.encoder.layer.0.output.dense.weight                 (768, 3072)\n",
            "bert.encoder.layer.0.output.dense.bias                        (768,)\n",
            "bert.encoder.layer.0.output.LayerNorm.weight                  (768,)\n",
            "bert.encoder.layer.0.output.LayerNorm.bias                    (768,)\n",
            "\n",
            "==== Output Layer ====\n",
            "\n",
            "bert.pooler.dense.weight                                  (768, 768)\n",
            "bert.pooler.dense.bias                                        (768,)\n",
            "classifier.weight                                           (2, 768)\n",
            "classifier.bias                                                 (2,)\n"
          ],
          "name": "stdout"
        }
      ]
    },
    {
      "cell_type": "markdown",
      "metadata": {
        "id": "UOu6KFV3ME2Q"
      },
      "source": [
        "## 4.2. Optimizer & Learning Rate Scheduler"
      ]
    },
    {
      "cell_type": "code",
      "metadata": {
        "id": "fp8-7-l04KWP"
      },
      "source": [
        "#!pip install pytorch_pretrained_bert"
      ],
      "execution_count": null,
      "outputs": []
    },
    {
      "cell_type": "code",
      "metadata": {
        "id": "5CBv9zb1L7Wz"
      },
      "source": [
        "# Note: AdamW is a class from the huggingface library (as opposed to pytorch). I believe the 'W' stands for 'Weight Decay fix\"\n",
        "optimizer = AdamW(model.parameters(),\n",
        "                 lr = 2e-5, # args.learning_rate - default is 5e-5, our notebook had 2e-5\n",
        "                 eps = 1e-8 # args.adam_epsilon  - default is 1e-8.\n",
        "                )\n",
        "\n",
        "\n",
        "from transformers import get_linear_schedule_with_warmup\n",
        "\n",
        "# Number of training epochs (authors recommend between 2 and 4)\n",
        "epochs = 10\n",
        "# Total number of training steps is number of batches * number of epochs.\n",
        "total_steps = len(training_dataloader) * epochs\n",
        "# Create the learning rate scheduler.\n",
        "scheduler = get_linear_schedule_with_warmup(optimizer, \n",
        "                                            num_warmup_steps = 0, # Default value in run_glue.py\n",
        "                                            num_training_steps = total_steps)"
      ],
      "execution_count": null,
      "outputs": []
    },
    {
      "cell_type": "markdown",
      "metadata": {
        "id": "XMLsubwKMcDh"
      },
      "source": [
        "## 4.3. Training Loop"
      ]
    },
    {
      "cell_type": "code",
      "metadata": {
        "id": "K7DbPp3AMfVa"
      },
      "source": [
        "# Function to calculate the accuracy of our predictions vs labels\n",
        "import numpy as np\n",
        "def flat_accuracy(preds, labels):\n",
        "    pred_flat = np.argmax(preds, axis=1).flatten()\n",
        "    labels_flat = labels.flatten()\n",
        "    return np.sum(pred_flat == labels_flat) / len(labels_flat)\n",
        "\n",
        "# function for formatting elapsed times.\n",
        "import time\n",
        "import datetime\n",
        "def format_time(elapsed):\n",
        "    '''\n",
        "    Takes a time in seconds and returns a string hh:mm:ss\n",
        "    '''\n",
        "    # Round to the nearest second.\n",
        "    elapsed_rounded = int(round((elapsed)))\n",
        "    \n",
        "    # Format as hh:mm:ss\n",
        "    return str(datetime.timedelta(seconds=elapsed_rounded))"
      ],
      "execution_count": null,
      "outputs": []
    },
    {
      "cell_type": "code",
      "metadata": {
        "id": "dyzMjIk8MqV1",
        "outputId": "72cbc514-2aa5-4be0-b6ea-bc3821df4989",
        "colab": {
          "base_uri": "https://localhost:8080/"
        }
      },
      "source": [
        "\n",
        "import random\n",
        "# Set the seed value all over the place to make this reproducible.\n",
        "seed_val = 42\n",
        "random.seed(seed_val)\n",
        "np.random.seed(seed_val)\n",
        "torch.manual_seed(seed_val)\n",
        "torch.cuda.manual_seed_all(seed_val)\n",
        "\n",
        "# Store the average loss after each epoch so we can plot them.\n",
        "loss_values = []\n",
        "# For each epoch...\n",
        "for epoch_i in range(0, epochs):\n",
        "    \n",
        "    # ========================================\n",
        "    #               Training\n",
        "    # ========================================\n",
        "    # Perform one full pass over the training set.\n",
        "    print(\"\")\n",
        "    print('======== Epoch {:} / {:} ========'.format(epoch_i + 1, epochs))\n",
        "    print('Training...')\n",
        "    # Measure how long the training epoch takes.\n",
        "    t0 = time.time()\n",
        "    # Reset the total loss for this epoch.\n",
        "    total_loss = 0\n",
        "    # Put the model into training mode. The call to  `train` just changes the *mode*, it doesn't *perform* the training.\n",
        "    # `dropout` and `batchnorm` layers behave differently during training vs. test (source: https://stackoverflow.com/questions/51433378/what-does-model-train-do-in-pytorch)\n",
        "    model.train()\n",
        "    # For each batch of training data...\n",
        "    for step, batch in enumerate(training_dataloader):\n",
        "        # Progress update every 40 batches.\n",
        "        if step % 40 == 0 and not step == 0:\n",
        "            # Calculate elapsed time in minutes.\n",
        "            elapsed = format_time(time.time() - t0)\n",
        "            \n",
        "            # Report progress.\n",
        "            print('  Batch {:>5,}  of  {:>5,}.    Elapsed: {:}.'.format(step, len(training_dataloader), elapsed))\n",
        "        \n",
        "        # Unpack this training batch from our dataloader. \n",
        "        # As we unpack the batch, we'll also copy each tensor to the GPU using the `to` method.\n",
        "        # `batch` contains three pytorch tensors:\n",
        "        #   [0]: input ids \n",
        "        #   [1]: attention masks\n",
        "        #   [2]: labels \n",
        "        b_input_ids = batch[0].to(device)\n",
        "        b_input_mask = batch[1].to(device)\n",
        "        b_labels = batch[2].to(device)\n",
        "        # Clear gradients before performing a backward pass. PyTorch doesn't do this automatically because  accumulating the gradients is \"convenient while training RNNs\". \n",
        "        model.zero_grad()        \n",
        "        # Perform a forward pass (evaluate the model on this training batch). This will return the loss (rather than the model output) because we have provided the `labels`.\n",
        "        # The documentation for this `model` function is here: \n",
        "        # https://huggingface.co/transformers/v2.2.0/model_doc/bert.html#transformers.BertForSequenceClassification\n",
        "        outputs = model(b_input_ids, \n",
        "                    token_type_ids=None, \n",
        "                    attention_mask=b_input_mask, \n",
        "                    labels=b_labels)\n",
        "        \n",
        "        # The call to `model` always returns a tuple, so we need to pull the loss value out of the tuple.\n",
        "        loss = outputs[0]\n",
        "        # Accumulate the training loss over all of the batches so that we can calculate the average loss at the end. \n",
        "        #`loss` is a Tensor containing a single value; the `.item()` function just returns the Python value from the tensor.\n",
        "        total_loss += loss.item()\n",
        "        # Perform a backward pass to calculate the gradients.\n",
        "        loss.backward()\n",
        "        # Clip the norm of the gradients to 1.0. This is to help prevent the \"exploding gradients\" problem.\n",
        "        torch.nn.utils.clip_grad_norm_(model.parameters(), 1.0)\n",
        "        # Update parameters and take a step using the computed gradient. \n",
        "        # The optimizer dictates the \"update rule\"--how the parameters are modified based on their gradients, the learning rate, etc.\n",
        "        optimizer.step()\n",
        "        # Update the learning rate.\n",
        "        scheduler.step()\n",
        "    # Calculate the average loss over the training data.\n",
        "    avg_train_loss = total_loss / len(training_dataloader)            \n",
        "    \n",
        "    # Store the loss value for plotting the learning curve.\n",
        "    loss_values.append(avg_train_loss)\n",
        "    print(\"\")\n",
        "    print(\"  Average training loss: {0:.2f}\".format(avg_train_loss))\n",
        "    print(\"  Training epcoh took: {:}\".format(format_time(time.time() - t0)))\n",
        "        \n",
        "    # ========================================\n",
        "    #               Validation\n",
        "    # ========================================\n",
        "    # After the completion of each training epoch, measure our performance on our validation set.\n",
        "    print(\"\")\n",
        "    print(\"Running Validation...\")\n",
        "    t0 = time.time()\n",
        "    # Put the model in evaluation mode--the dropout layers behave differently during evaluation.\n",
        "    model.eval()\n",
        "    # Tracking variables \n",
        "    eval_loss, eval_accuracy = 0, 0\n",
        "    nb_eval_steps, nb_eval_examples = 0, 0\n",
        "    # Evaluate data for one epoch\n",
        "    for batch in validation_dataloader:\n",
        "        \n",
        "        # Add batch to GPU\n",
        "        batch = tuple(t.to(device) for t in batch)\n",
        "        \n",
        "        # Unpack the inputs from our dataloader\n",
        "        b_input_ids, b_input_mask, b_labels = batch\n",
        "        \n",
        "        # Telling the model not to compute or store gradients, saving memory and speeding up validation\n",
        "        with torch.no_grad():        \n",
        "            # Forward pass, calculate logit predictions. This will return the logits rather than the loss because we have not provided labels.\n",
        "            # token_type_ids is the same as the \"segment ids\", which differentiates sentence 1 and 2 in 2-sentence tasks.\n",
        "            # The documentation for this `model` function is here: \n",
        "            # https://huggingface.co/transformers/v2.2.0/model_doc/bert.html#transformers.BertForSequenceClassification\n",
        "            outputs = model(b_input_ids, \n",
        "                            token_type_ids=None, \n",
        "                            attention_mask=b_input_mask)\n",
        "        \n",
        "        # Get the \"logits\" output by the model. The \"logits\" are the output values prior to applying an activation function like the softmax.\n",
        "        logits = outputs[0]\n",
        "        # Move logits and labels to CPU\n",
        "        logits = logits.detach().cpu().numpy()\n",
        "        label_ids = b_labels.to('cpu').numpy()\n",
        "        \n",
        "        # Calculate the accuracy for this batch of test sentences.\n",
        "        tmp_eval_accuracy = flat_accuracy(logits, label_ids)\n",
        "        \n",
        "        # Accumulate the total accuracy.\n",
        "        eval_accuracy += tmp_eval_accuracy\n",
        "        # Track the number of batches\n",
        "        nb_eval_steps += 1\n",
        "    # Report the final accuracy for this validation run.\n",
        "    print(\"  Accuracy: {0:.2f}\".format(eval_accuracy/nb_eval_steps))\n",
        "    print(\"  Validation took: {:}\".format(format_time(time.time() - t0)))\n",
        "print(\"\")\n",
        "print(\"Training complete!\")"
      ],
      "execution_count": null,
      "outputs": [
        {
          "output_type": "stream",
          "text": [
            "\n",
            "======== Epoch 1 / 10 ========\n",
            "Training...\n",
            "  Batch    40  of     86.    Elapsed: 0:00:20.\n",
            "  Batch    80  of     86.    Elapsed: 0:00:40.\n",
            "\n",
            "  Average training loss: 0.70\n",
            "  Training epcoh took: 0:00:43\n",
            "\n",
            "Running Validation...\n",
            "  Accuracy: 0.53\n",
            "  Validation took: 0:00:06\n",
            "\n",
            "======== Epoch 2 / 10 ========\n",
            "Training...\n",
            "  Batch    40  of     86.    Elapsed: 0:00:21.\n",
            "  Batch    80  of     86.    Elapsed: 0:00:41.\n",
            "\n",
            "  Average training loss: 0.67\n",
            "  Training epcoh took: 0:00:44\n",
            "\n",
            "Running Validation...\n",
            "  Accuracy: 0.54\n",
            "  Validation took: 0:00:07\n",
            "\n",
            "======== Epoch 3 / 10 ========\n",
            "Training...\n",
            "  Batch    40  of     86.    Elapsed: 0:00:21.\n",
            "  Batch    80  of     86.    Elapsed: 0:00:43.\n",
            "\n",
            "  Average training loss: 0.62\n",
            "  Training epcoh took: 0:00:46\n",
            "\n",
            "Running Validation...\n",
            "  Accuracy: 0.51\n",
            "  Validation took: 0:00:07\n",
            "\n",
            "======== Epoch 4 / 10 ========\n",
            "Training...\n",
            "  Batch    40  of     86.    Elapsed: 0:00:22.\n",
            "  Batch    80  of     86.    Elapsed: 0:00:44.\n",
            "\n",
            "  Average training loss: 0.51\n",
            "  Training epcoh took: 0:00:47\n",
            "\n",
            "Running Validation...\n",
            "  Accuracy: 0.53\n",
            "  Validation took: 0:00:07\n",
            "\n",
            "======== Epoch 5 / 10 ========\n",
            "Training...\n",
            "  Batch    40  of     86.    Elapsed: 0:00:22.\n",
            "  Batch    80  of     86.    Elapsed: 0:00:44.\n",
            "\n",
            "  Average training loss: 0.39\n",
            "  Training epcoh took: 0:00:47\n",
            "\n",
            "Running Validation...\n",
            "  Accuracy: 0.53\n",
            "  Validation took: 0:00:07\n",
            "\n",
            "======== Epoch 6 / 10 ========\n",
            "Training...\n",
            "  Batch    40  of     86.    Elapsed: 0:00:22.\n",
            "  Batch    80  of     86.    Elapsed: 0:00:44.\n",
            "\n",
            "  Average training loss: 0.30\n",
            "  Training epcoh took: 0:00:47\n",
            "\n",
            "Running Validation...\n",
            "  Accuracy: 0.50\n",
            "  Validation took: 0:00:07\n",
            "\n",
            "======== Epoch 7 / 10 ========\n",
            "Training...\n",
            "  Batch    40  of     86.    Elapsed: 0:00:22.\n",
            "  Batch    80  of     86.    Elapsed: 0:00:44.\n",
            "\n",
            "  Average training loss: 0.26\n",
            "  Training epcoh took: 0:00:47\n",
            "\n",
            "Running Validation...\n",
            "  Accuracy: 0.52\n",
            "  Validation took: 0:00:07\n",
            "\n",
            "======== Epoch 8 / 10 ========\n",
            "Training...\n",
            "  Batch    40  of     86.    Elapsed: 0:00:22.\n",
            "  Batch    80  of     86.    Elapsed: 0:00:44.\n",
            "\n",
            "  Average training loss: 0.19\n",
            "  Training epcoh took: 0:00:47\n",
            "\n",
            "Running Validation...\n",
            "  Accuracy: 0.52\n",
            "  Validation took: 0:00:07\n",
            "\n",
            "======== Epoch 9 / 10 ========\n",
            "Training...\n",
            "  Batch    40  of     86.    Elapsed: 0:00:22.\n",
            "  Batch    80  of     86.    Elapsed: 0:00:44.\n",
            "\n",
            "  Average training loss: 0.18\n",
            "  Training epcoh took: 0:00:47\n",
            "\n",
            "Running Validation...\n",
            "  Accuracy: 0.52\n",
            "  Validation took: 0:00:07\n",
            "\n",
            "======== Epoch 10 / 10 ========\n",
            "Training...\n",
            "  Batch    40  of     86.    Elapsed: 0:00:22.\n",
            "  Batch    80  of     86.    Elapsed: 0:00:44.\n",
            "\n",
            "  Average training loss: 0.16\n",
            "  Training epcoh took: 0:00:47\n",
            "\n",
            "Running Validation...\n",
            "  Accuracy: 0.52\n",
            "  Validation took: 0:00:07\n",
            "\n",
            "Training complete!\n"
          ],
          "name": "stdout"
        }
      ]
    },
    {
      "cell_type": "code",
      "metadata": {
        "id": "Ge5u8E6LNlMU",
        "outputId": "bf66eaf5-03c7-4b17-c958-ade6349edb50",
        "colab": {
          "base_uri": "https://localhost:8080/",
          "height": 542
        }
      },
      "source": [
        "#Let’s take a look at our training loss over all batches:\n",
        "import plotly.express as px\n",
        "f = pd.DataFrame(loss_values)\n",
        "f.columns=['Loss']\n",
        "fig = px.line(f, x=f.index, y=f.Loss)\n",
        "fig.update_layout(title='Training loss of the Model',\n",
        "                   xaxis_title='Epoch',\n",
        "                   yaxis_title='Loss')\n",
        "fig.show()"
      ],
      "execution_count": null,
      "outputs": [
        {
          "output_type": "display_data",
          "data": {
            "text/html": [
              "<html>\n",
              "<head><meta charset=\"utf-8\" /></head>\n",
              "<body>\n",
              "    <div>\n",
              "            <script src=\"https://cdnjs.cloudflare.com/ajax/libs/mathjax/2.7.5/MathJax.js?config=TeX-AMS-MML_SVG\"></script><script type=\"text/javascript\">if (window.MathJax) {MathJax.Hub.Config({SVG: {font: \"STIX-Web\"}});}</script>\n",
              "                <script type=\"text/javascript\">window.PlotlyConfig = {MathJaxConfig: 'local'};</script>\n",
              "        <script src=\"https://cdn.plot.ly/plotly-latest.min.js\"></script>    \n",
              "            <div id=\"ab3a2bc3-08cd-4d77-bac6-fcb5278cbb27\" class=\"plotly-graph-div\" style=\"height:525px; width:100%;\"></div>\n",
              "            <script type=\"text/javascript\">\n",
              "                \n",
              "                    window.PLOTLYENV=window.PLOTLYENV || {};\n",
              "                    \n",
              "                if (document.getElementById(\"ab3a2bc3-08cd-4d77-bac6-fcb5278cbb27\")) {\n",
              "                    Plotly.newPlot(\n",
              "                        'ab3a2bc3-08cd-4d77-bac6-fcb5278cbb27',\n",
              "                        [{\"hoverlabel\": {\"namelength\": 0}, \"hovertemplate\": \"index=%{x}<br>Loss=%{y}\", \"legendgroup\": \"\", \"line\": {\"color\": \"#636efa\", \"dash\": \"solid\"}, \"mode\": \"lines\", \"name\": \"\", \"showlegend\": false, \"type\": \"scatter\", \"x\": [0, 1, 2, 3], \"xaxis\": \"x\", \"y\": [0.6964896799520005, 0.6511568738970646, 0.57180415544399, 0.4865528622338938], \"yaxis\": \"y\"}],\n",
              "                        {\"legend\": {\"tracegroupgap\": 0}, \"margin\": {\"t\": 60}, \"template\": {\"data\": {\"bar\": [{\"error_x\": {\"color\": \"#2a3f5f\"}, \"error_y\": {\"color\": \"#2a3f5f\"}, \"marker\": {\"line\": {\"color\": \"#E5ECF6\", \"width\": 0.5}}, \"type\": \"bar\"}], \"barpolar\": [{\"marker\": {\"line\": {\"color\": \"#E5ECF6\", \"width\": 0.5}}, \"type\": \"barpolar\"}], \"carpet\": [{\"aaxis\": {\"endlinecolor\": \"#2a3f5f\", \"gridcolor\": \"white\", \"linecolor\": \"white\", \"minorgridcolor\": \"white\", \"startlinecolor\": \"#2a3f5f\"}, \"baxis\": {\"endlinecolor\": \"#2a3f5f\", \"gridcolor\": \"white\", \"linecolor\": \"white\", \"minorgridcolor\": \"white\", \"startlinecolor\": \"#2a3f5f\"}, \"type\": \"carpet\"}], \"choropleth\": [{\"colorbar\": {\"outlinewidth\": 0, \"ticks\": \"\"}, \"type\": \"choropleth\"}], \"contour\": [{\"colorbar\": {\"outlinewidth\": 0, \"ticks\": \"\"}, \"colorscale\": [[0.0, \"#0d0887\"], [0.1111111111111111, \"#46039f\"], [0.2222222222222222, \"#7201a8\"], [0.3333333333333333, \"#9c179e\"], [0.4444444444444444, \"#bd3786\"], [0.5555555555555556, \"#d8576b\"], [0.6666666666666666, \"#ed7953\"], [0.7777777777777778, \"#fb9f3a\"], [0.8888888888888888, \"#fdca26\"], [1.0, \"#f0f921\"]], \"type\": \"contour\"}], \"contourcarpet\": [{\"colorbar\": {\"outlinewidth\": 0, \"ticks\": \"\"}, \"type\": \"contourcarpet\"}], \"heatmap\": [{\"colorbar\": {\"outlinewidth\": 0, \"ticks\": \"\"}, \"colorscale\": [[0.0, \"#0d0887\"], [0.1111111111111111, \"#46039f\"], [0.2222222222222222, \"#7201a8\"], [0.3333333333333333, \"#9c179e\"], [0.4444444444444444, \"#bd3786\"], [0.5555555555555556, \"#d8576b\"], [0.6666666666666666, \"#ed7953\"], [0.7777777777777778, \"#fb9f3a\"], [0.8888888888888888, \"#fdca26\"], [1.0, \"#f0f921\"]], \"type\": \"heatmap\"}], \"heatmapgl\": [{\"colorbar\": {\"outlinewidth\": 0, \"ticks\": \"\"}, \"colorscale\": [[0.0, \"#0d0887\"], [0.1111111111111111, \"#46039f\"], [0.2222222222222222, \"#7201a8\"], [0.3333333333333333, \"#9c179e\"], [0.4444444444444444, \"#bd3786\"], [0.5555555555555556, \"#d8576b\"], [0.6666666666666666, \"#ed7953\"], [0.7777777777777778, \"#fb9f3a\"], [0.8888888888888888, \"#fdca26\"], [1.0, \"#f0f921\"]], \"type\": \"heatmapgl\"}], \"histogram\": [{\"marker\": {\"colorbar\": {\"outlinewidth\": 0, \"ticks\": \"\"}}, \"type\": \"histogram\"}], \"histogram2d\": [{\"colorbar\": {\"outlinewidth\": 0, \"ticks\": \"\"}, \"colorscale\": [[0.0, \"#0d0887\"], [0.1111111111111111, \"#46039f\"], [0.2222222222222222, \"#7201a8\"], [0.3333333333333333, \"#9c179e\"], [0.4444444444444444, \"#bd3786\"], [0.5555555555555556, \"#d8576b\"], [0.6666666666666666, \"#ed7953\"], [0.7777777777777778, \"#fb9f3a\"], [0.8888888888888888, \"#fdca26\"], [1.0, \"#f0f921\"]], \"type\": \"histogram2d\"}], \"histogram2dcontour\": [{\"colorbar\": {\"outlinewidth\": 0, \"ticks\": \"\"}, \"colorscale\": [[0.0, \"#0d0887\"], [0.1111111111111111, \"#46039f\"], [0.2222222222222222, \"#7201a8\"], [0.3333333333333333, \"#9c179e\"], [0.4444444444444444, \"#bd3786\"], [0.5555555555555556, \"#d8576b\"], [0.6666666666666666, \"#ed7953\"], [0.7777777777777778, \"#fb9f3a\"], [0.8888888888888888, \"#fdca26\"], [1.0, \"#f0f921\"]], \"type\": \"histogram2dcontour\"}], \"mesh3d\": [{\"colorbar\": {\"outlinewidth\": 0, \"ticks\": \"\"}, \"type\": \"mesh3d\"}], \"parcoords\": [{\"line\": {\"colorbar\": {\"outlinewidth\": 0, \"ticks\": \"\"}}, \"type\": \"parcoords\"}], \"pie\": [{\"automargin\": true, \"type\": \"pie\"}], \"scatter\": [{\"marker\": {\"colorbar\": {\"outlinewidth\": 0, \"ticks\": \"\"}}, \"type\": \"scatter\"}], \"scatter3d\": [{\"line\": {\"colorbar\": {\"outlinewidth\": 0, \"ticks\": \"\"}}, \"marker\": {\"colorbar\": {\"outlinewidth\": 0, \"ticks\": \"\"}}, \"type\": \"scatter3d\"}], \"scattercarpet\": [{\"marker\": {\"colorbar\": {\"outlinewidth\": 0, \"ticks\": \"\"}}, \"type\": \"scattercarpet\"}], \"scattergeo\": [{\"marker\": {\"colorbar\": {\"outlinewidth\": 0, \"ticks\": \"\"}}, \"type\": \"scattergeo\"}], \"scattergl\": [{\"marker\": {\"colorbar\": {\"outlinewidth\": 0, \"ticks\": \"\"}}, \"type\": \"scattergl\"}], \"scattermapbox\": [{\"marker\": {\"colorbar\": {\"outlinewidth\": 0, \"ticks\": \"\"}}, \"type\": \"scattermapbox\"}], \"scatterpolar\": [{\"marker\": {\"colorbar\": {\"outlinewidth\": 0, \"ticks\": \"\"}}, \"type\": \"scatterpolar\"}], \"scatterpolargl\": [{\"marker\": {\"colorbar\": {\"outlinewidth\": 0, \"ticks\": \"\"}}, \"type\": \"scatterpolargl\"}], \"scatterternary\": [{\"marker\": {\"colorbar\": {\"outlinewidth\": 0, \"ticks\": \"\"}}, \"type\": \"scatterternary\"}], \"surface\": [{\"colorbar\": {\"outlinewidth\": 0, \"ticks\": \"\"}, \"colorscale\": [[0.0, \"#0d0887\"], [0.1111111111111111, \"#46039f\"], [0.2222222222222222, \"#7201a8\"], [0.3333333333333333, \"#9c179e\"], [0.4444444444444444, \"#bd3786\"], [0.5555555555555556, \"#d8576b\"], [0.6666666666666666, \"#ed7953\"], [0.7777777777777778, \"#fb9f3a\"], [0.8888888888888888, \"#fdca26\"], [1.0, \"#f0f921\"]], \"type\": \"surface\"}], \"table\": [{\"cells\": {\"fill\": {\"color\": \"#EBF0F8\"}, \"line\": {\"color\": \"white\"}}, \"header\": {\"fill\": {\"color\": \"#C8D4E3\"}, \"line\": {\"color\": \"white\"}}, \"type\": \"table\"}]}, \"layout\": {\"annotationdefaults\": {\"arrowcolor\": \"#2a3f5f\", \"arrowhead\": 0, \"arrowwidth\": 1}, \"coloraxis\": {\"colorbar\": {\"outlinewidth\": 0, \"ticks\": \"\"}}, \"colorscale\": {\"diverging\": [[0, \"#8e0152\"], [0.1, \"#c51b7d\"], [0.2, \"#de77ae\"], [0.3, \"#f1b6da\"], [0.4, \"#fde0ef\"], [0.5, \"#f7f7f7\"], [0.6, \"#e6f5d0\"], [0.7, \"#b8e186\"], [0.8, \"#7fbc41\"], [0.9, \"#4d9221\"], [1, \"#276419\"]], \"sequential\": [[0.0, \"#0d0887\"], [0.1111111111111111, \"#46039f\"], [0.2222222222222222, \"#7201a8\"], [0.3333333333333333, \"#9c179e\"], [0.4444444444444444, \"#bd3786\"], [0.5555555555555556, \"#d8576b\"], [0.6666666666666666, \"#ed7953\"], [0.7777777777777778, \"#fb9f3a\"], [0.8888888888888888, \"#fdca26\"], [1.0, \"#f0f921\"]], \"sequentialminus\": [[0.0, \"#0d0887\"], [0.1111111111111111, \"#46039f\"], [0.2222222222222222, \"#7201a8\"], [0.3333333333333333, \"#9c179e\"], [0.4444444444444444, \"#bd3786\"], [0.5555555555555556, \"#d8576b\"], [0.6666666666666666, \"#ed7953\"], [0.7777777777777778, \"#fb9f3a\"], [0.8888888888888888, \"#fdca26\"], [1.0, \"#f0f921\"]]}, \"colorway\": [\"#636efa\", \"#EF553B\", \"#00cc96\", \"#ab63fa\", \"#FFA15A\", \"#19d3f3\", \"#FF6692\", \"#B6E880\", \"#FF97FF\", \"#FECB52\"], \"font\": {\"color\": \"#2a3f5f\"}, \"geo\": {\"bgcolor\": \"white\", \"lakecolor\": \"white\", \"landcolor\": \"#E5ECF6\", \"showlakes\": true, \"showland\": true, \"subunitcolor\": \"white\"}, \"hoverlabel\": {\"align\": \"left\"}, \"hovermode\": \"closest\", \"mapbox\": {\"style\": \"light\"}, \"paper_bgcolor\": \"white\", \"plot_bgcolor\": \"#E5ECF6\", \"polar\": {\"angularaxis\": {\"gridcolor\": \"white\", \"linecolor\": \"white\", \"ticks\": \"\"}, \"bgcolor\": \"#E5ECF6\", \"radialaxis\": {\"gridcolor\": \"white\", \"linecolor\": \"white\", \"ticks\": \"\"}}, \"scene\": {\"xaxis\": {\"backgroundcolor\": \"#E5ECF6\", \"gridcolor\": \"white\", \"gridwidth\": 2, \"linecolor\": \"white\", \"showbackground\": true, \"ticks\": \"\", \"zerolinecolor\": \"white\"}, \"yaxis\": {\"backgroundcolor\": \"#E5ECF6\", \"gridcolor\": \"white\", \"gridwidth\": 2, \"linecolor\": \"white\", \"showbackground\": true, \"ticks\": \"\", \"zerolinecolor\": \"white\"}, \"zaxis\": {\"backgroundcolor\": \"#E5ECF6\", \"gridcolor\": \"white\", \"gridwidth\": 2, \"linecolor\": \"white\", \"showbackground\": true, \"ticks\": \"\", \"zerolinecolor\": \"white\"}}, \"shapedefaults\": {\"line\": {\"color\": \"#2a3f5f\"}}, \"ternary\": {\"aaxis\": {\"gridcolor\": \"white\", \"linecolor\": \"white\", \"ticks\": \"\"}, \"baxis\": {\"gridcolor\": \"white\", \"linecolor\": \"white\", \"ticks\": \"\"}, \"bgcolor\": \"#E5ECF6\", \"caxis\": {\"gridcolor\": \"white\", \"linecolor\": \"white\", \"ticks\": \"\"}}, \"title\": {\"x\": 0.05}, \"xaxis\": {\"automargin\": true, \"gridcolor\": \"white\", \"linecolor\": \"white\", \"ticks\": \"\", \"title\": {\"standoff\": 15}, \"zerolinecolor\": \"white\", \"zerolinewidth\": 2}, \"yaxis\": {\"automargin\": true, \"gridcolor\": \"white\", \"linecolor\": \"white\", \"ticks\": \"\", \"title\": {\"standoff\": 15}, \"zerolinecolor\": \"white\", \"zerolinewidth\": 2}}}, \"title\": {\"text\": \"Training loss of the Model\"}, \"xaxis\": {\"anchor\": \"y\", \"domain\": [0.0, 1.0], \"title\": {\"text\": \"Epoch\"}}, \"yaxis\": {\"anchor\": \"x\", \"domain\": [0.0, 1.0], \"title\": {\"text\": \"Loss\"}}},\n",
              "                        {\"responsive\": true}\n",
              "                    ).then(function(){\n",
              "                            \n",
              "var gd = document.getElementById('ab3a2bc3-08cd-4d77-bac6-fcb5278cbb27');\n",
              "var x = new MutationObserver(function (mutations, observer) {{\n",
              "        var display = window.getComputedStyle(gd).display;\n",
              "        if (!display || display === 'none') {{\n",
              "            console.log([gd, 'removed!']);\n",
              "            Plotly.purge(gd);\n",
              "            observer.disconnect();\n",
              "        }}\n",
              "}});\n",
              "\n",
              "// Listen for the removal of the full notebook cells\n",
              "var notebookContainer = gd.closest('#notebook-container');\n",
              "if (notebookContainer) {{\n",
              "    x.observe(notebookContainer, {childList: true});\n",
              "}}\n",
              "\n",
              "// Listen for the clearing of the current output cell\n",
              "var outputEl = gd.closest('.output');\n",
              "if (outputEl) {{\n",
              "    x.observe(outputEl, {childList: true});\n",
              "}}\n",
              "\n",
              "                        })\n",
              "                };\n",
              "                \n",
              "            </script>\n",
              "        </div>\n",
              "</body>\n",
              "</html>"
            ]
          },
          "metadata": {
            "tags": []
          }
        }
      ]
    },
    {
      "cell_type": "markdown",
      "metadata": {
        "id": "OSG8QP9DOOJi"
      },
      "source": [
        "### 5. Performance On Test Set"
      ]
    },
    {
      "cell_type": "markdown",
      "metadata": {
        "id": "C0qBgYlRSlrF"
      },
      "source": [
        "## 5.2. Evaluate on Test Set"
      ]
    },
    {
      "cell_type": "code",
      "metadata": {
        "id": "EvZJPY-rSiPX",
        "outputId": "13a981e9-e691-4a39-858e-540254ea7200",
        "colab": {
          "base_uri": "https://localhost:8080/"
        }
      },
      "source": [
        "# for metrics\n",
        "y_pred = []\n",
        "y_true = []\n",
        "\n",
        "# Prediction on test set\n",
        "print('Predicting labels for {:,} test sentences...'.format(len(inputs_testing)))\n",
        "# Put model in evaluation mode\n",
        "model.eval()\n",
        "# Tracking variables \n",
        "predictions , true_labels = [], []\n",
        "# Predict \n",
        "for batch in testing_dataloader:\n",
        "  # Add batch to GPU\n",
        "  batch = tuple(t.to(device) for t in batch)\n",
        "  \n",
        "  # Unpack the inputs from our dataloader\n",
        "  b_input_ids, b_input_mask, b_labels = batch\n",
        "  \n",
        "  # Telling the model not to compute or store gradients, saving memory and \n",
        "  # speeding up prediction\n",
        "  with torch.no_grad():\n",
        "      # Forward pass, calculate logit predictions\n",
        "      outputs = model(b_input_ids, token_type_ids=None, \n",
        "                      attention_mask=b_input_mask)\n",
        "  # collect metrics\n",
        "  logits = outputs[0]\n",
        "  y_pred.extend(torch.argmax(logits, 1).tolist())\n",
        "  y_true.extend(b_labels.tolist())\n",
        "\n",
        "  # Move logits and labels to CPU\n",
        "  logits = logits.detach().cpu().numpy()\n",
        "  label_ids = b_labels.to('cpu').numpy()\n",
        "\n",
        "  # Store predictions and true labels\n",
        "  predictions.append(logits)\n",
        "  true_labels.append(label_ids)\n",
        "print('DONE.')"
      ],
      "execution_count": null,
      "outputs": [
        {
          "output_type": "stream",
          "text": [
            "Predicting labels for 1,658 test sentences...\n",
            "DONE.\n"
          ],
          "name": "stdout"
        }
      ]
    },
    {
      "cell_type": "code",
      "metadata": {
        "id": "R_kvV8pLtBY-",
        "outputId": "c9bdfc7e-2829-4fab-90ea-003735f52222",
        "colab": {
          "base_uri": "https://localhost:8080/"
        }
      },
      "source": [
        "from sklearn.metrics import accuracy_score, classification_report, confusion_matrix\n",
        "print(classification_report(y_true, y_pred, labels=[1,0]))"
      ],
      "execution_count": null,
      "outputs": [
        {
          "output_type": "stream",
          "text": [
            "              precision    recall  f1-score   support\n",
            "\n",
            "           1       0.53      0.57      0.55       884\n",
            "           0       0.55      0.51      0.53       897\n",
            "\n",
            "    accuracy                           0.54      1781\n",
            "   macro avg       0.54      0.54      0.54      1781\n",
            "weighted avg       0.54      0.54      0.54      1781\n",
            "\n"
          ],
          "name": "stdout"
        }
      ]
    },
    {
      "cell_type": "code",
      "metadata": {
        "id": "Deov2oCK7XFR",
        "outputId": "54e21ee4-cda0-49a5-c00a-5ed1c7ba1101",
        "colab": {
          "base_uri": "https://localhost:8080/"
        }
      },
      "source": [
        "from sklearn.metrics import accuracy_score, classification_report, confusion_matrix\n",
        "print(classification_report(y_true, y_pred, labels=[1,0]))"
      ],
      "execution_count": null,
      "outputs": [
        {
          "output_type": "stream",
          "text": [
            "              precision    recall  f1-score   support\n",
            "\n",
            "           1       0.55      0.57      0.56       828\n",
            "           0       0.55      0.53      0.54       830\n",
            "\n",
            "    accuracy                           0.55      1658\n",
            "   macro avg       0.55      0.55      0.55      1658\n",
            "weighted avg       0.55      0.55      0.55      1658\n",
            "\n"
          ],
          "name": "stdout"
        }
      ]
    },
    {
      "cell_type": "code",
      "metadata": {
        "id": "llzS-uW4S2XX",
        "outputId": "0e531012-77dc-4b56-c08c-8c8005c974ba",
        "colab": {
          "base_uri": "https://localhost:8080/",
          "height": 312
        }
      },
      "source": [
        "import matplotlib.pyplot as plt\n",
        "import seaborn as sns\n",
        "cm = confusion_matrix(y_true, y_pred, labels=[1,0])\n",
        "ax= plt.subplot()\n",
        "sns.heatmap(cm, annot=True, ax = ax, cmap='Blues', fmt=\"d\")\n",
        "\n",
        "ax.set_title('Confusion Matrix')\n",
        "\n",
        "ax.set_xlabel('Predicted Labels')\n",
        "ax.set_ylabel('True Labels')\n",
        "\n",
        "ax.xaxis.set_ticklabels(['HATEFUL', 'NOT HATEFUL'])\n",
        "ax.yaxis.set_ticklabels(['HATEFUL', 'NOT HATEFUL'])"
      ],
      "execution_count": null,
      "outputs": [
        {
          "output_type": "execute_result",
          "data": {
            "text/plain": [
              "[Text(0, 0.5, 'HATEFUL'), Text(0, 1.5, 'NOT HATEFUL')]"
            ]
          },
          "metadata": {
            "tags": []
          },
          "execution_count": 32
        },
        {
          "output_type": "display_data",
          "data": {
            "image/png": "[encoded data removed]",
            "text/plain": [
              "<Figure size 432x288 with 2 Axes>"
            ]
          },
          "metadata": {
            "tags": [],
            "needs_background": "light"
          }
        }
      ]
    },
    {
      "cell_type": "code",
      "metadata": {
        "id": "2p0NgjDDzFe-"
      },
      "source": [
        ""
      ],
      "execution_count": null,
      "outputs": []
    }
  ]
}